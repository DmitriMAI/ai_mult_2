{
  "cells": [
    {
      "cell_type": "markdown",
      "metadata": {},
      "source": [
        "# Выбор начальных условий\n",
        "а. Набор данных для классификации\n",
        "Скачиваем датасет.\n",
        "https://www.kaggle.com/datasets/marquis03/vehicle-classification  \n",
        "  \n",
        "В нем разные машины, смыл определять конкретную машину. Так как сам водитель, то   интересно сделать классификатор для камер наблюдения. В Москве есть система умный   город, можно таким способом обнаружить какие машины проезжали и найти преступника.  \n",
        "\n",
        "b. Выбор метрик\n",
        "Так как мы классифицируем, то есть классы, есть предсказания.  \n",
        "Поэтому как в прошлых лабораторных использую f1-score, precision, accuracy, recall  "
      ]
    },
    {
      "cell_type": "markdown",
      "metadata": {},
      "source": [
        "Работу выполнил Овчинников Дмитрий Максимович М8О-406Б-21  "
      ]
    },
    {
      "cell_type": "code",
      "execution_count": null,
      "metadata": {
        "colab": {
          "base_uri": "https://localhost:8080/"
        },
        "id": "q107aU9uEpoH",
        "outputId": "8301ab6d-4d43-462b-f3ed-2714a12ce415"
      },
      "outputs": [
        {
          "name": "stdout",
          "output_type": "stream",
          "text": [
            "Path to dataset files: /kaggle/input/vehicle-classification\n"
          ]
        }
      ],
      "source": [
        "# Качаем датасет\n",
        "import kagglehub\n",
        "\n",
        "# Download latest version\n",
        "path = kagglehub.dataset_download(\"marquis03/vehicle-classification\")\n",
        "\n",
        "print(\"Path to dataset files:\", path)"
      ]
    },
    {
      "cell_type": "code",
      "execution_count": null,
      "metadata": {
        "colab": {
          "base_uri": "https://localhost:8080/"
        },
        "id": "BTdEcL0oFQ9d",
        "outputId": "1292899c-7c43-44ad-fa4a-96b88660fbe2"
      },
      "outputs": [
        {
          "name": "stdout",
          "output_type": "stream",
          "text": [
            "test  train  val\n"
          ]
        }
      ],
      "source": [
        "# находим где он\n",
        "!ls /root/.cache/kagglehub/datasets/marquis03/vehicle-classification/versions/1"
      ]
    },
    {
      "cell_type": "code",
      "execution_count": null,
      "metadata": {
        "id": "mNvRMyCUFjEa"
      },
      "outputs": [],
      "source": [
        "# полезный пак либ\n",
        "import random\n",
        "import numpy as np\n",
        "import matplotlib.pyplot as plt\n",
        "import torch\n",
        "import torch.nn as nn\n",
        "import torch.optim as optim\n",
        "from torch.utils.data import DataLoader, Subset\n",
        "from torchvision import datasets, transforms\n",
        "from torchvision.models import resnet18, ResNet18_Weights, vit_b_16, ViT_B_16_Weights\n",
        "from sklearn.metrics import classification_report\n",
        "import seaborn as sns\n",
        "from copy import deepcopy"
      ]
    },
    {
      "cell_type": "code",
      "execution_count": null,
      "metadata": {
        "id": "2Hrac1blFkYh"
      },
      "outputs": [],
      "source": [
        "# нашли где лежит\n",
        "path_train = '/root/.cache/kagglehub/datasets/marquis03/vehicle-classification/versions/1/train'\n",
        "path_test = '/root/.cache/kagglehub/datasets/marquis03/vehicle-classification/versions/1/val'"
      ]
    },
    {
      "cell_type": "code",
      "execution_count": null,
      "metadata": {
        "id": "HC2bhRuIFp1c"
      },
      "outputs": [],
      "source": [
        "# Нужно, чтобы был размер работы с моделью. Нужен перевод картинки в массив чисел (тензор) и нормализация, чтобы примерно одинаково влияло\n",
        "train_transforms = transforms.Compose([\n",
        "    transforms.Resize((224, 224)),\n",
        "    transforms.ToTensor(),\n",
        "    transforms.Normalize(mean=[0.5] * 3, std=[0.5] * 3)\n",
        "])\n",
        "\n",
        "test_transforms = transforms.Compose([\n",
        "    transforms.Resize((224, 224)),\n",
        "    transforms.ToTensor(),\n",
        "    transforms.Normalize(mean=[0.5] * 3, std=[0.5] * 3)\n",
        "])"
      ]
    },
    {
      "cell_type": "code",
      "execution_count": null,
      "metadata": {
        "colab": {
          "base_uri": "https://localhost:8080/"
        },
        "id": "9w-5d3VnFqt8",
        "outputId": "3f495e9d-d203-4164-a444-350ddb6eb50e"
      },
      "outputs": [
        {
          "name": "stdout",
          "output_type": "stream",
          "text": [
            "Классы: ['SUV', 'bus', 'family sedan', 'fire engine', 'heavy truck', 'jeep', 'minibus', 'racing car', 'taxi', 'truck']\n"
          ]
        }
      ],
      "source": [
        "# Делал локально, можно менять выше\n",
        "NUM_COUNT = 100\n",
        "\n",
        "full_train_dataset = datasets.ImageFolder(root=path_train, transform=train_transforms)\n",
        "full_test_dataset = datasets.ImageFolder(root=path_test, transform=test_transforms)\n",
        "\n",
        "# Не нагружать карту всем датасетом\n",
        "def get_subset(dataset, count):\n",
        "    if count is None or count >= len(dataset):\n",
        "        return dataset\n",
        "    inx = random.sample(range(len(dataset)), count)\n",
        "\n",
        "    return Subset(dataset, inx)\n",
        "\n",
        "train_dataset = get_subset(full_train_dataset, NUM_COUNT)\n",
        "test_dataset = get_subset(full_test_dataset, NUM_COUNT)\n",
        "\n",
        "# Итераторы для данных\n",
        "train_loader = DataLoader(train_dataset, batch_size=32, shuffle=True)\n",
        "test_loader = DataLoader(test_dataset, batch_size=32, shuffle=False)\n",
        "\n",
        "# Что вообще в классах\n",
        "class_names = full_train_dataset.classes\n",
        "print(\"Классы:\", class_names)"
      ]
    },
    {
      "cell_type": "code",
      "execution_count": null,
      "metadata": {
        "colab": {
          "base_uri": "https://localhost:8080/"
        },
        "id": "PcImkwJ1Fxl_",
        "outputId": "2e19385c-4541-4480-85b1-19e5f8891f9a"
      },
      "outputs": [
        {
          "name": "stdout",
          "output_type": "stream",
          "text": [
            "cuda\n"
          ]
        }
      ],
      "source": [
        "# на видеокарте быстрее, но локально только 4 гига есть :C\n",
        "device = torch.device(\"cuda\" if torch.cuda.is_available() else \"cpu\")\n",
        "print(device)\n",
        "\n",
        "def train_classifier(model, criterion, optimizer, train_loader, test_loader, num_epochs=3):\n",
        "    model.to(device)\n",
        "    # Учим\n",
        "    for epoch in range(num_epochs):\n",
        "        model.train()\n",
        "        running_loss = 0.0\n",
        "\n",
        "        for inputs, labels in train_loader:\n",
        "            inputs, labels = inputs.to(device), labels.to(device)\n",
        "\n",
        "            optimizer.zero_grad()\n",
        "            outputs = model(inputs)\n",
        "            loss = criterion(outputs, labels)\n",
        "            loss.backward()\n",
        "            optimizer.step()\n",
        "\n",
        "            r  += loss.item() * inputs.size(0)\n",
        "\n",
        "        epoch_loss = running_loss / len(train_loader.dataset)\n",
        "\n",
        "        print(f\"Эпоха {epoch+1}/{num_epochs}, loss: {epoch_loss:.4f}\")\n",
        "    # Проверяем насколько круто. (предварительные данные)\n",
        "    model.eval()\n",
        "    correct = 0\n",
        "    total = 0\n",
        "\n",
        "    with torch.no_grad():\n",
        "        for inputs, labels in test_loader:\n",
        "            inputs, labels = inputs.to(device), labels.to(device)\n",
        "            outputs = model(inputs)\n",
        "            _, preds = torch.max(outputs, 1)\n",
        "            correct += (preds == labels).sum().item()\n",
        "            total += labels.size(0)\n",
        "\n",
        "    acc = correct / total\n",
        "\n",
        "    print(f\"Насколько круто: {acc:.2f} {correct}/{total}\")"
      ]
    },
    {
      "cell_type": "markdown",
      "metadata": {},
      "source": [
        "---"
      ]
    },
    {
      "cell_type": "markdown",
      "metadata": {},
      "source": [
        "# 2. Создание бейзлайна и оценка качества  \n",
        "a. Обучить сверточную модель"
      ]
    },
    {
      "cell_type": "code",
      "execution_count": null,
      "metadata": {
        "colab": {
          "base_uri": "https://localhost:8080/"
        },
        "id": "u5s9jk0rFzPf",
        "outputId": "96f38e48-1e36-439e-9527-ae2c50542497"
      },
      "outputs": [
        {
          "name": "stdout",
          "output_type": "stream",
          "text": [
            "Эпоха 1/3, loss: 1.8700\n",
            "Эпоха 2/3, loss: 0.2609\n",
            "Эпоха 3/3, loss: 0.1169\n",
            "Насколько круто: 0.35 35/100\n"
          ]
        }
      ],
      "source": [
        "# Стандартные результаты\n",
        "weights = ResNet18_Weights.DEFAULT\n",
        "resnet18_m = resnet18(weights=weights)\n",
        "resnet18_m.fc = nn.Linear(resnet18_m.fc.in_features, len(class_names))\n",
        "\n",
        "criterion = nn.CrossEntropyLoss()\n",
        "optimizer = optim.Adam(resnet18_m.parameters(), lr=1e-3)\n",
        "\n",
        "train_classifier(resnet18_m, criterion, optimizer, train_loader, test_loader)"
      ]
    },
    {
      "cell_type": "code",
      "execution_count": null,
      "metadata": {
        "colab": {
          "base_uri": "https://localhost:8080/"
        },
        "id": "QDc1YoQaF0sP",
        "outputId": "0f2d5f65-6725-4acf-8930-f8b540a0b243"
      },
      "outputs": [
        {
          "name": "stdout",
          "output_type": "stream",
          "text": [
            "Эпоха 1/3, loss: 2.1613\n",
            "Эпоха 2/3, loss: 0.9563\n",
            "Эпоха 3/3, loss: 0.4268\n",
            "Насколько круто: 0.78 78/100\n"
          ]
        }
      ],
      "source": [
        "# Стандартные результаты для трансформерной\n",
        "weights = ViT_B_16_Weights.DEFAULT\n",
        "vit_m = vit_b_16(weights=weights)\n",
        "vit_m.heads.head = nn.Linear(vit_m.heads.head.in_features, len(class_names))\n",
        "\n",
        "criterion_vit = nn.CrossEntropyLoss()\n",
        "# Нужен свой т.к свои параметры и в прошлом остались от прошлой модели измененные\n",
        "optimizer_vit = optim.Adam(vit_m.parameters(), lr=1e-4)\n",
        "\n",
        "train_classifier(vit_m, criterion_vit, optimizer_vit, train_loader, test_loader)"
      ]
    },
    {
      "cell_type": "code",
      "execution_count": null,
      "metadata": {
        "id": "x9LOkMaIGCKs"
      },
      "outputs": [],
      "source": [
        "# круто, но надо, чтобы более подробная картина была\n",
        "def evalModel(model, test_data):\n",
        "    model.eval()\n",
        "    true_pred, pred = [], []\n",
        "\n",
        "    with torch.no_grad():\n",
        "        for inputs, labels in test_data:\n",
        "            inputs, labels = inputs.to(device), labels.to(device)\n",
        "            outputs = model(inputs)\n",
        "            _, preds = torch.max(outputs, 1)\n",
        "            true_pred.extend(labels.cpu().numpy())\n",
        "            pred.extend(preds.cpu().numpy())\n",
        "    return true_pred, pred\n",
        "\n",
        "def slovaric_info(model, test_data, class_names):\n",
        "    true_pred_arr, pred_arr = evalModel(model, test_data)\n",
        "\n",
        "    label_ids = list(range(len(class_names)))\n",
        "    report = classification_report(\n",
        "        true_pred_arr,\n",
        "        pred_arr,\n",
        "        labels=label_ids,\n",
        "        target_names=class_names,\n",
        "        zero_division=0,\n",
        "        output_dict=True\n",
        "    )\n",
        "\n",
        "    return report\n"
      ]
    },
    {
      "cell_type": "code",
      "execution_count": null,
      "metadata": {
        "id": "QYoGjZ_FG5i-"
      },
      "outputs": [],
      "source": [
        "# Извлекаем нужные метрики\n",
        "\n",
        "def metrics_model(model, name, loader):\n",
        "    print(f\"for model {name}\")\n",
        "    info = slovaric_info(model, loader, class_names)\n",
        "    f1 = info[\"macro avg\"][\"f1-score\"]\n",
        "    print(f\"f1: {f1:.2f}\")\n",
        "    presicion = info[\"macro avg\"][\"precision\"]\n",
        "    print(f\"presicion: {presicion:.2f}\")\n",
        "    acc = info[\"accuracy\"]\n",
        "    print(f\"acc: {acc:.2f}\")\n",
        "    recall = info[\"macro avg\"][\"recall\"]\n",
        "    print(f\"recall {recall:.2f}\")\n",
        "    return info\n"
      ]
    },
    {
      "cell_type": "code",
      "execution_count": null,
      "metadata": {
        "colab": {
          "base_uri": "https://localhost:8080/"
        },
        "id": "s913YAVfJCAM",
        "outputId": "ee5cfa2c-3671-496f-bd81-5fc4fc562c60"
      },
      "outputs": [
        {
          "name": "stdout",
          "output_type": "stream",
          "text": [
            "for model resnet\n",
            "f1: 0.26\n",
            "presicion: 0.32\n",
            "acc: 0.35\n",
            "recall 0.31\n"
          ]
        },
        {
          "data": {
            "text/plain": [
              "{'SUV': {'precision': 0.2558139534883721,\n",
              "  'recall': 1.0,\n",
              "  'f1-score': 0.4074074074074074,\n",
              "  'support': 11.0},\n",
              " 'bus': {'precision': 0.0, 'recall': 0.0, 'f1-score': 0.0, 'support': 10.0},\n",
              " 'family sedan': {'precision': 0.5,\n",
              "  'recall': 0.2727272727272727,\n",
              "  'f1-score': 0.35294117647058826,\n",
              "  'support': 11.0},\n",
              " 'fire engine': {'precision': 0.8571428571428571,\n",
              "  'recall': 0.5454545454545454,\n",
              "  'f1-score': 0.6666666666666666,\n",
              "  'support': 11.0},\n",
              " 'heavy truck': {'precision': 0.6,\n",
              "  'recall': 0.2727272727272727,\n",
              "  'f1-score': 0.375,\n",
              "  'support': 11.0},\n",
              " 'jeep': {'precision': 0.0, 'recall': 0.0, 'f1-score': 0.0, 'support': 8.0},\n",
              " 'minibus': {'precision': 0.6666666666666666,\n",
              "  'recall': 0.25,\n",
              "  'f1-score': 0.36363636363636365,\n",
              "  'support': 8.0},\n",
              " 'racing car': {'precision': 0.0,\n",
              "  'recall': 0.0,\n",
              "  'f1-score': 0.0,\n",
              "  'support': 11.0},\n",
              " 'taxi': {'precision': 0.0, 'recall': 0.0, 'f1-score': 0.0, 'support': 6.0},\n",
              " 'truck': {'precision': 0.2777777777777778,\n",
              "  'recall': 0.7692307692307693,\n",
              "  'f1-score': 0.40816326530612246,\n",
              "  'support': 13.0},\n",
              " 'accuracy': 0.35,\n",
              " 'macro avg': {'precision': 0.31574012550756736,\n",
              "  'recall': 0.311013986013986,\n",
              "  'f1-score': 0.25738148794871485,\n",
              "  'support': 100.0},\n",
              " 'weighted avg': {'precision': 0.3328696936138797,\n",
              "  'recall': 0.35,\n",
              "  'f1-score': 0.2803738111406179,\n",
              "  'support': 100.0}}"
            ]
          },
          "execution_count": 86,
          "metadata": {},
          "output_type": "execute_result"
        }
      ],
      "source": [
        "# метрики для resnet18_m\n",
        "metrics_model(resnet18_m,\"resnet\", test_loader)"
      ]
    },
    {
      "cell_type": "code",
      "execution_count": null,
      "metadata": {
        "colab": {
          "base_uri": "https://localhost:8080/"
        },
        "id": "rF5cFWo-JSId",
        "outputId": "49bf54f7-6375-4fad-cc71-830b2b7faf0b"
      },
      "outputs": [
        {
          "name": "stdout",
          "output_type": "stream",
          "text": [
            "for model resnet\n",
            "f1: 0.80\n",
            "presicion: 0.86\n",
            "acc: 0.78\n",
            "recall 0.80\n"
          ]
        },
        {
          "data": {
            "text/plain": [
              "{'SUV': {'precision': 0.8333333333333334,\n",
              "  'recall': 0.45454545454545453,\n",
              "  'f1-score': 0.5882352941176471,\n",
              "  'support': 11.0},\n",
              " 'bus': {'precision': 1.0,\n",
              "  'recall': 0.8,\n",
              "  'f1-score': 0.8888888888888888,\n",
              "  'support': 10.0},\n",
              " 'family sedan': {'precision': 0.6,\n",
              "  'recall': 0.8181818181818182,\n",
              "  'f1-score': 0.6923076923076923,\n",
              "  'support': 11.0},\n",
              " 'fire engine': {'precision': 0.7333333333333333,\n",
              "  'recall': 1.0,\n",
              "  'f1-score': 0.8461538461538461,\n",
              "  'support': 11.0},\n",
              " 'heavy truck': {'precision': 1.0,\n",
              "  'recall': 0.6363636363636364,\n",
              "  'f1-score': 0.7777777777777778,\n",
              "  'support': 11.0},\n",
              " 'jeep': {'precision': 1.0, 'recall': 1.0, 'f1-score': 1.0, 'support': 8.0},\n",
              " 'minibus': {'precision': 0.3888888888888889,\n",
              "  'recall': 0.875,\n",
              "  'f1-score': 0.5384615384615384,\n",
              "  'support': 8.0},\n",
              " 'racing car': {'precision': 1.0,\n",
              "  'recall': 0.9090909090909091,\n",
              "  'f1-score': 0.9523809523809523,\n",
              "  'support': 11.0},\n",
              " 'taxi': {'precision': 1.0, 'recall': 1.0, 'f1-score': 1.0, 'support': 6.0},\n",
              " 'truck': {'precision': 1.0,\n",
              "  'recall': 0.5384615384615384,\n",
              "  'f1-score': 0.7,\n",
              "  'support': 13.0},\n",
              " 'accuracy': 0.78,\n",
              " 'macro avg': {'precision': 0.8555555555555555,\n",
              "  'recall': 0.8031643356643358,\n",
              "  'f1-score': 0.7984205990088343,\n",
              "  'support': 100.0},\n",
              " 'weighted avg': {'precision': 0.8594444444444446,\n",
              "  'recall': 0.78,\n",
              "  'f1-score': 0.7872199238669826,\n",
              "  'support': 100.0}}"
            ]
          },
          "execution_count": 87,
          "metadata": {},
          "output_type": "execute_result"
        }
      ],
      "source": [
        "# метрики для vit_m\n",
        "metrics_model(vit_m,\"resnet\", test_loader)"
      ]
    },
    {
      "cell_type": "markdown",
      "metadata": {
        "id": "tsieLh3oJaDM"
      },
      "source": [
        "Vit будет покруче"
      ]
    },
    {
      "cell_type": "markdown",
      "metadata": {},
      "source": [
        "---"
      ]
    },
    {
      "cell_type": "markdown",
      "metadata": {},
      "source": [
        "# 3. улучшить бейзлайн"
      ]
    },
    {
      "cell_type": "code",
      "execution_count": null,
      "metadata": {
        "id": "hirRjzL0JcxM"
      },
      "outputs": [],
      "source": [
        "# Улучшаем бейзлайн\n",
        "\n",
        "# гипотеза\n",
        "# Если машины не выровнены, то добавить повернутые фото и которые ездят в разные стороны может сделать лучше результаты\n",
        "better_transform = transforms.Compose([\n",
        "    transforms.Resize((224, 224)),\n",
        "    transforms.RandomHorizontalFlip(),\n",
        "    transforms.RandomRotation(10),\n",
        "    transforms.ToTensor(),\n",
        "    transforms.Normalize(mean=[0.5] * 3, std=[0.5] * 3)\n",
        "])"
      ]
    },
    {
      "cell_type": "code",
      "execution_count": null,
      "metadata": {
        "colab": {
          "base_uri": "https://localhost:8080/"
        },
        "id": "jBZqf9QiJ3Lo",
        "outputId": "40400691-5055-4145-a40d-513bc4e31d97"
      },
      "outputs": [
        {
          "name": "stdout",
          "output_type": "stream",
          "text": [
            "Классы: ['SUV', 'bus', 'family sedan', 'fire engine', 'heavy truck', 'jeep', 'minibus', 'racing car', 'taxi', 'truck']\n"
          ]
        }
      ],
      "source": [
        "\n",
        "# обновляем наш датасет\n",
        "full_train_better_transform = datasets.ImageFolder(root=path_train, transform=better_transform)\n",
        "full_test_dataset = datasets.ImageFolder(root=path_test, transform=test_transforms)\n",
        "\n",
        "train_dataset_extra = get_subset(full_train_better_transform, NUM_COUNT)\n",
        "test_dataset = get_subset(full_test_dataset, NUM_COUNT)\n",
        "\n",
        "# Итераторы для данных\n",
        "train_loader = DataLoader(train_dataset_extra, batch_size=32, shuffle=True)\n",
        "test_loader = DataLoader(test_dataset, batch_size=32, shuffle=False)\n",
        "\n",
        "# Проверка: что классы есть\n",
        "class_names = full_train_better_transform.classes\n",
        "print(\"Классы:\", class_names)"
      ]
    },
    {
      "cell_type": "code",
      "execution_count": null,
      "metadata": {
        "colab": {
          "base_uri": "https://localhost:8080/"
        },
        "id": "zJWcHb9zKTFz",
        "outputId": "9c78199f-62e9-45b7-f2cc-704491e829cd"
      },
      "outputs": [
        {
          "name": "stdout",
          "output_type": "stream",
          "text": [
            "Эпоха 1/3, loss: 1.8512\n",
            "Эпоха 2/3, loss: 0.5436\n",
            "Эпоха 3/3, loss: 0.1699\n",
            "Насколько круто: 0.34 34/100\n"
          ]
        }
      ],
      "source": [
        "# обучаем опять\n",
        "weights = ResNet18_Weights.DEFAULT\n",
        "resnet18_m_extra = resnet18(weights=weights)\n",
        "resnet18_m_extra.fc = nn.Linear(resnet18_m_extra.fc.in_features, len(class_names))\n",
        "\n",
        "criterion_extra = nn.CrossEntropyLoss()\n",
        "optimizer_extra = optim.Adam(resnet18_m_extra.parameters(), lr=1e-3)\n",
        "\n",
        "train_classifier(resnet18_m_extra, criterion_extra, optimizer_extra, train_loader, test_loader)"
      ]
    },
    {
      "cell_type": "code",
      "execution_count": null,
      "metadata": {
        "colab": {
          "base_uri": "https://localhost:8080/"
        },
        "id": "VjLO9uq3Kh9k",
        "outputId": "3070ccef-84f6-4568-a26e-1229537677dd"
      },
      "outputs": [
        {
          "name": "stdout",
          "output_type": "stream",
          "text": [
            "for model resnet extra\n",
            "f1: 0.30\n",
            "presicion: 0.49\n",
            "acc: 0.34\n",
            "recall 0.34\n"
          ]
        },
        {
          "data": {
            "text/plain": [
              "{'SUV': {'precision': 0.4, 'recall': 0.4, 'f1-score': 0.4, 'support': 10.0},\n",
              " 'bus': {'precision': 0.0, 'recall': 0.0, 'f1-score': 0.0, 'support': 9.0},\n",
              " 'family sedan': {'precision': 1.0,\n",
              "  'recall': 0.15384615384615385,\n",
              "  'f1-score': 0.26666666666666666,\n",
              "  'support': 13.0},\n",
              " 'fire engine': {'precision': 0.375,\n",
              "  'recall': 0.3,\n",
              "  'f1-score': 0.3333333333333333,\n",
              "  'support': 10.0},\n",
              " 'heavy truck': {'precision': 0.16666666666666666,\n",
              "  'recall': 0.625,\n",
              "  'f1-score': 0.2631578947368421,\n",
              "  'support': 8.0},\n",
              " 'jeep': {'precision': 1.0,\n",
              "  'recall': 0.08333333333333333,\n",
              "  'f1-score': 0.15384615384615385,\n",
              "  'support': 12.0},\n",
              " 'minibus': {'precision': 0.6666666666666666,\n",
              "  'recall': 0.6,\n",
              "  'f1-score': 0.631578947368421,\n",
              "  'support': 10.0},\n",
              " 'racing car': {'precision': 1.0,\n",
              "  'recall': 0.4,\n",
              "  'f1-score': 0.5714285714285714,\n",
              "  'support': 10.0},\n",
              " 'taxi': {'precision': 0.0, 'recall': 0.0, 'f1-score': 0.0, 'support': 7.0},\n",
              " 'truck': {'precision': 0.2647058823529412,\n",
              "  'recall': 0.8181818181818182,\n",
              "  'f1-score': 0.4,\n",
              "  'support': 11.0},\n",
              " 'accuracy': 0.34,\n",
              " 'macro avg': {'precision': 0.48730392156862734,\n",
              "  'recall': 0.3380361305361306,\n",
              "  'f1-score': 0.3020011567379988,\n",
              "  'support': 100.0},\n",
              " 'weighted avg': {'precision': 0.5366176470588235,\n",
              "  'recall': 0.34,\n",
              "  'f1-score': 0.3118149219201851,\n",
              "  'support': 100.0}}"
            ]
          },
          "execution_count": 91,
          "metadata": {},
          "output_type": "execute_result"
        }
      ],
      "source": [
        "# лучше не стало, мб дело в мелкой выборке, либо таких мало в тест данных повернутых\n",
        "metrics_model(resnet18_m_extra,\"resnet extra\", test_loader)"
      ]
    },
    {
      "cell_type": "code",
      "execution_count": null,
      "metadata": {
        "colab": {
          "base_uri": "https://localhost:8080/"
        },
        "id": "QV1_7hZ7KpAm",
        "outputId": "9fc1840b-6bcb-4741-ab47-2ef4cedff7c0"
      },
      "outputs": [
        {
          "name": "stdout",
          "output_type": "stream",
          "text": [
            "Эпоха 1/3, loss: 2.1311\n",
            "Эпоха 2/3, loss: 1.1097\n",
            "Эпоха 3/3, loss: 0.5155\n",
            "Насколько круто: 0.75 75/100\n"
          ]
        }
      ],
      "source": [
        "# А вот со второй не плохо\n",
        "weights = ViT_B_16_Weights.DEFAULT\n",
        "vit_m_extra = vit_b_16(weights=weights)\n",
        "vit_m_extra.heads.head = nn.Linear(vit_m_extra.heads.head.in_features, len(class_names))\n",
        "\n",
        "criterion_vit = nn.CrossEntropyLoss()\n",
        "# Нужен свой т.к свои параметры и в прошлом остались от прошлой модели измененные\n",
        "optimizer_vit = optim.Adam(vit_m_extra.parameters(), lr=1e-4)\n",
        "\n",
        "train_classifier(vit_m_extra, criterion_vit, optimizer_vit, train_loader, test_loader)"
      ]
    },
    {
      "cell_type": "code",
      "execution_count": null,
      "metadata": {
        "colab": {
          "base_uri": "https://localhost:8080/"
        },
        "id": "7I2lX7ABKuVl",
        "outputId": "c5a63ac7-5888-43df-d08e-a3dec9238f3c"
      },
      "outputs": [
        {
          "name": "stdout",
          "output_type": "stream",
          "text": [
            "for model vit extra\n",
            "f1: 0.71\n",
            "presicion: 0.77\n",
            "acc: 0.75\n",
            "recall 0.74\n"
          ]
        },
        {
          "data": {
            "text/plain": [
              "{'SUV': {'precision': 0.37037037037037035,\n",
              "  'recall': 1.0,\n",
              "  'f1-score': 0.5405405405405406,\n",
              "  'support': 10.0},\n",
              " 'bus': {'precision': 0.9,\n",
              "  'recall': 1.0,\n",
              "  'f1-score': 0.9473684210526315,\n",
              "  'support': 9.0},\n",
              " 'family sedan': {'precision': 0.8333333333333334,\n",
              "  'recall': 0.7692307692307693,\n",
              "  'f1-score': 0.8,\n",
              "  'support': 13.0},\n",
              " 'fire engine': {'precision': 1.0,\n",
              "  'recall': 0.7,\n",
              "  'f1-score': 0.8235294117647058,\n",
              "  'support': 10.0},\n",
              " 'heavy truck': {'precision': 0.8888888888888888,\n",
              "  'recall': 1.0,\n",
              "  'f1-score': 0.9411764705882353,\n",
              "  'support': 8.0},\n",
              " 'jeep': {'precision': 1.0,\n",
              "  'recall': 0.16666666666666666,\n",
              "  'f1-score': 0.2857142857142857,\n",
              "  'support': 12.0},\n",
              " 'minibus': {'precision': 1.0,\n",
              "  'recall': 0.9,\n",
              "  'f1-score': 0.9473684210526315,\n",
              "  'support': 10.0},\n",
              " 'racing car': {'precision': 0.8333333333333334,\n",
              "  'recall': 1.0,\n",
              "  'f1-score': 0.9090909090909091,\n",
              "  'support': 10.0},\n",
              " 'taxi': {'precision': 0.0, 'recall': 0.0, 'f1-score': 0.0, 'support': 7.0},\n",
              " 'truck': {'precision': 0.8333333333333334,\n",
              "  'recall': 0.9090909090909091,\n",
              "  'f1-score': 0.8695652173913043,\n",
              "  'support': 11.0},\n",
              " 'accuracy': 0.75,\n",
              " 'macro avg': {'precision': 0.7659259259259259,\n",
              "  'recall': 0.7444988344988345,\n",
              "  'f1-score': 0.7064353677195244,\n",
              "  'support': 100.0},\n",
              " 'weighted avg': {'precision': 0.7924814814814816,\n",
              "  'recall': 0.75,\n",
              "  'f1-score': 0.716548091985432,\n",
              "  'support': 100.0}}"
            ]
          },
          "execution_count": 93,
          "metadata": {},
          "output_type": "execute_result"
        }
      ],
      "source": [
        "# но опять же стало не сильно круче\n",
        "metrics_model(vit_m_extra,\"vit extra\", test_loader)"
      ]
    },
    {
      "cell_type": "code",
      "execution_count": null,
      "metadata": {
        "id": "CVeBXSa9K8JO"
      },
      "outputs": [],
      "source": [
        "# Гипотеза провалена \n",
        "# Возвращаем старый даталоадер\n",
        "# 2 блока вернуть старый датасет"
      ]
    },
    {
      "cell_type": "code",
      "execution_count": null,
      "metadata": {
        "colab": {
          "base_uri": "https://localhost:8080/"
        },
        "id": "kfi_oV8VLxSq",
        "outputId": "d8761b55-5237-49f7-8922-beaf0bc0869c"
      },
      "outputs": [
        {
          "name": "stdout",
          "output_type": "stream",
          "text": [
            "Классы: ['SUV', 'bus', 'family sedan', 'fire engine', 'heavy truck', 'jeep', 'minibus', 'racing car', 'taxi', 'truck']\n"
          ]
        }
      ],
      "source": [
        "NUM_COUNT = 100\n",
        "\n",
        "full_train_dataset = datasets.ImageFolder(root=path_train, transform=train_transforms)\n",
        "full_test_dataset = datasets.ImageFolder(root=path_test, transform=test_transforms)\n",
        "\n",
        "# Не нагружать карту всем датасетом\n",
        "def get_subset(dataset, count):\n",
        "    if count is None or count >= len(dataset):\n",
        "        return dataset\n",
        "    inx = random.sample(range(len(dataset)), count)\n",
        "\n",
        "    return Subset(dataset, inx)\n",
        "\n",
        "train_dataset = get_subset(full_train_dataset, NUM_COUNT)\n",
        "test_dataset = get_subset(full_test_dataset, NUM_COUNT)\n",
        "\n",
        "# Итераторы для данных\n",
        "train_loader = DataLoader(train_dataset, batch_size=32, shuffle=True)\n",
        "test_loader = DataLoader(test_dataset, batch_size=32, shuffle=False)\n",
        "\n",
        "# Что вообще вышло\n",
        "class_names = full_train_dataset.classes\n",
        "print(\"Классы:\", class_names)"
      ]
    },
    {
      "cell_type": "code",
      "execution_count": null,
      "metadata": {
        "id": "tRd31TYkM81e"
      },
      "outputs": [],
      "source": [
        "# Извлекаем нужные метрики\n",
        "\n",
        "def metrics_model(model, name, loader):\n",
        "    print(f\"for model {name}\")\n",
        "    info = slovaric_info(model, loader, class_names)\n",
        "    f1 = info[\"macro avg\"][\"f1-score\"]\n",
        "    print(f\"f1: {f1:.2f}\")\n",
        "    presicion = info[\"macro avg\"][\"precision\"]\n",
        "    print(f\"presicion: {presicion:.2f}\")\n",
        "    acc = info[\"accuracy\"]\n",
        "    print(f\"acc: {acc:.2f}\")\n",
        "    recall = info[\"macro avg\"][\"recall\"]\n",
        "    print(f\"recall {recall:.2f}\")\n",
        "    return info"
      ]
    },
    {
      "cell_type": "markdown",
      "metadata": {},
      "source": [
        "гипотеза 2 - меняем гиперпараметры"
      ]
    },
    {
      "cell_type": "code",
      "execution_count": null,
      "metadata": {
        "colab": {
          "base_uri": "https://localhost:8080/"
        },
        "id": "qq_znkQbLzIJ",
        "outputId": "9fecbed7-1da7-491a-d302-181000c1ccfc"
      },
      "outputs": [
        {
          "name": "stdout",
          "output_type": "stream",
          "text": [
            "resnet | Смотрим с : LR=0.001, Batch=6, Epochs=3\n",
            "Эпоха 1/3, loss: 2.3605\n",
            "Эпоха 2/3, loss: 1.8121\n",
            "Эпоха 3/3, loss: 1.0397\n",
            "Насколько круто: 0.41 41/100\n",
            "for model resnet\n",
            "f1: 0.40\n",
            "presicion: 0.46\n",
            "acc: 0.41\n",
            "recall 0.42\n",
            "\n",
            "resnet | Смотрим с : LR=0.001, Batch=6, Epochs=5\n",
            "Эпоха 1/5, loss: 2.3291\n",
            "Эпоха 2/5, loss: 0.9094\n",
            "Эпоха 3/5, loss: 0.8224\n",
            "Эпоха 4/5, loss: 0.3504\n",
            "Эпоха 5/5, loss: 0.4249\n",
            "Насколько круто: 0.40 40/100\n",
            "for model resnet\n",
            "f1: 0.30\n",
            "presicion: 0.41\n",
            "acc: 0.40\n",
            "recall 0.36\n",
            "\n",
            "resnet | Смотрим с : LR=0.0001, Batch=6, Epochs=3\n",
            "Эпоха 1/3, loss: 2.0527\n",
            "Эпоха 2/3, loss: 0.7413\n",
            "Эпоха 3/3, loss: 0.2947\n",
            "Насколько круто: 0.79 79/100\n",
            "for model resnet\n",
            "f1: 0.78\n",
            "presicion: 0.81\n",
            "acc: 0.79\n",
            "recall 0.79\n",
            "\n",
            "resnet | Смотрим с : LR=0.0001, Batch=6, Epochs=5\n",
            "Эпоха 1/5, loss: 2.0396\n",
            "Эпоха 2/5, loss: 0.5930\n",
            "Эпоха 3/5, loss: 0.2509\n",
            "Эпоха 4/5, loss: 0.1114\n",
            "Эпоха 5/5, loss: 0.0728\n",
            "Насколько круто: 0.82 82/100\n",
            "for model resnet\n",
            "f1: 0.82\n",
            "presicion: 0.85\n",
            "acc: 0.82\n",
            "recall 0.82\n",
            "\n"
          ]
        }
      ],
      "source": [
        "# Разная learning rate, и количество эпох\n",
        "lr_new = [1e-3, 1e-4]\n",
        "epoch_new = [3, 5]\n",
        "\n",
        "res_info = []\n",
        "batch = 6\n",
        "\n",
        "for lr in lr_new:\n",
        "    for epochs in epoch_new:\n",
        "        print(f\"resnet | Смотрим с : LR={lr}, Batch={batch}, Epochs={epochs}\")\n",
        "        train_loader_hp = DataLoader(train_dataset, batch_size=batch, shuffle=True, num_workers=0)\n",
        "        test_loader_hp = DataLoader(test_dataset, batch_size=batch, shuffle=False)\n",
        "        model_r = resnet18(weights=ResNet18_Weights.DEFAULT)\n",
        "        model_r.fc = nn.Linear(model_r.fc.in_features, len(class_names))\n",
        "        model_r = model_r.to(device)\n",
        "        optimizer_r = optim.Adam(model_r.parameters(), lr=lr)\n",
        "        criterion_r = nn.CrossEntropyLoss()\n",
        "        train_classifier(model_r, criterion_r, optimizer_r, train_loader_hp, test_loader_hp, num_epochs=epochs)\n",
        "        report_r = metrics_model(model_r,\"resnet\", test_loader_hp)\n",
        "        print(\"\")\n",
        "        res_info.append({\n",
        "            \"lr\": lr, \"epochs\": epochs,\n",
        "            \"f1\": report_r[\"macro avg\"][\"f1-score\"],\n",
        "            \"acc\": report_r[\"accuracy\"],\n",
        "            \"report\": deepcopy(report_r)\n",
        "        })"
      ]
    },
    {
      "cell_type": "markdown",
      "metadata": {},
      "source": [
        "Стало по круче с меньше lr, больше эпох"
      ]
    },
    {
      "cell_type": "code",
      "execution_count": null,
      "metadata": {
        "colab": {
          "base_uri": "https://localhost:8080/"
        },
        "id": "VVeYGrCFNi2j",
        "outputId": "7bc611b2-67aa-4a1a-873d-3d3adfe9ac8e"
      },
      "outputs": [
        {
          "name": "stdout",
          "output_type": "stream",
          "text": [
            "vit | Смотрим с : LR=0.001, Epochs=3\n",
            "Эпоха 1/3, loss: 2.7883\n",
            "Эпоха 2/3, loss: 2.4403\n",
            "Эпоха 3/3, loss: 2.4584\n",
            "Насколько круто: 0.08 8/100\n",
            "for model vit\n",
            "f1: 0.03\n",
            "presicion: 0.11\n",
            "acc: 0.08\n",
            "recall 0.11\n",
            "\n",
            "vit | Смотрим с : LR=0.001, Epochs=5\n",
            "Эпоха 1/5, loss: 2.9403\n",
            "Эпоха 2/5, loss: 2.4109\n",
            "Эпоха 3/5, loss: 2.3842\n",
            "Эпоха 4/5, loss: 2.4118\n",
            "Эпоха 5/5, loss: 2.4083\n",
            "Насколько круто: 0.09 9/100\n",
            "for model vit\n",
            "f1: 0.03\n",
            "presicion: 0.02\n",
            "acc: 0.09\n",
            "recall 0.12\n",
            "\n",
            "vit | Смотрим с : LR=0.0001, Epochs=3\n",
            "Эпоха 1/3, loss: 2.1851\n",
            "Эпоха 2/3, loss: 0.6146\n",
            "Эпоха 3/3, loss: 0.0966\n",
            "Насколько круто: 0.86 86/100\n",
            "for model vit\n",
            "f1: 0.86\n",
            "presicion: 0.87\n",
            "acc: 0.86\n",
            "recall 0.87\n",
            "\n",
            "vit | Смотрим с : LR=0.0001, Epochs=5\n",
            "Эпоха 1/5, loss: 1.9808\n",
            "Эпоха 2/5, loss: 0.5393\n",
            "Эпоха 3/5, loss: 0.1245\n",
            "Эпоха 4/5, loss: 0.0474\n",
            "Эпоха 5/5, loss: 0.0163\n",
            "Насколько круто: 0.92 92/100\n",
            "for model vit\n",
            "f1: 0.91\n",
            "presicion: 0.92\n",
            "acc: 0.92\n",
            "recall 0.92\n",
            "\n"
          ]
        }
      ],
      "source": [
        "# Проверям аналогично\n",
        "vit_info = []\n",
        "for lr in lr_new:\n",
        "    for epochs in epoch_new:\n",
        "        print(f\"vit | Смотрим с : LR={lr}, Epochs={epochs}\")\n",
        "        train_loader_hp = DataLoader(train_dataset, batch_size=batch, shuffle=True, num_workers=0)\n",
        "        test_loader_hp = DataLoader(test_dataset, batch_size=batch, shuffle=False)\n",
        "        model_v = vit_b_16(weights=ViT_B_16_Weights.DEFAULT)\n",
        "        model_v.heads.head = nn.Linear(model_v.heads.head.in_features, len(class_names))\n",
        "        model_v = model_v.to(device)\n",
        "        optimizer_v = optim.Adam(model_v.parameters(), lr=lr)\n",
        "        criterion_v = nn.CrossEntropyLoss()\n",
        "        train_classifier(model_v, criterion_v, optimizer_v, train_loader_hp, test_loader_hp, num_epochs=epochs)\n",
        "        report_v = metrics_model(model_v, \"vit\", test_loader_hp)\n",
        "        print(\"\")\n",
        "        vit_info.append({\n",
        "            \"lr\": lr, \"epochs\": epochs,\n",
        "            \"f1\": report_v[\"macro avg\"][\"f1-score\"],\n",
        "            \"acc\": report_v[\"accuracy\"],\n",
        "            \"report\": deepcopy(report_v)\n",
        "        })"
      ]
    },
    {
      "cell_type": "markdown",
      "metadata": {},
      "source": [
        "Стало еще лучше! Гипотеза работает"
      ]
    },
    {
      "cell_type": "markdown",
      "metadata": {
        "id": "6MmeUPubOeGW"
      },
      "source": [
        "Другая архитектура"
      ]
    },
    {
      "cell_type": "code",
      "execution_count": null,
      "metadata": {
        "colab": {
          "base_uri": "https://localhost:8080/"
        },
        "id": "1q6qTTf8O8u7",
        "outputId": "9c573289-1758-4409-dcba-afc131124ba5"
      },
      "outputs": [
        {
          "name": "stdout",
          "output_type": "stream",
          "text": [
            "Эпоха 1/3, loss: 2.2865\n",
            "Эпоха 2/3, loss: 2.0129\n",
            "Эпоха 3/3, loss: 1.7536\n",
            "Насколько круто: 0.33 33/100\n",
            "for model mobile_net\n",
            "f1: 0.31\n",
            "presicion: 0.47\n",
            "acc: 0.33\n",
            "recall 0.36\n"
          ]
        }
      ],
      "source": [
        "# Меняем модель\n",
        "from torchvision.models import mobilenet_v3_small, MobileNet_V3_Small_Weights\n",
        "from torchvision.models import efficientnet_b0, EfficientNet_B0_Weights\n",
        "\n",
        "\n",
        "model_mobile = mobilenet_v3_small(weights=MobileNet_V3_Small_Weights.DEFAULT)\n",
        "model_mobile.classifier[3] = nn.Linear(model_mobile.classifier[3].in_features, len(class_names))\n",
        "model_mobile = model_mobile.to(device)\n",
        "\n",
        "optimizer_mobile = optim.Adam(model_mobile.parameters(), lr=1e-4)\n",
        "criterion_mobile = nn.CrossEntropyLoss()\n",
        "\n",
        "train_classifier(model_mobile, criterion_mobile, optimizer_mobile, train_loader_hp, test_loader_hp, num_epochs=3)\n",
        "\n",
        "report_mobile = metrics_model(model_mobile, \"mobile_net\", test_loader_hp)"
      ]
    },
    {
      "cell_type": "code",
      "execution_count": null,
      "metadata": {
        "colab": {
          "base_uri": "https://localhost:8080/"
        },
        "id": "EGLTENiBPNLN",
        "outputId": "5decc243-5caf-416e-8dee-24746dcd532b"
      },
      "outputs": [
        {
          "name": "stdout",
          "output_type": "stream",
          "text": [
            "Эпоха 1/3, loss: 2.2897\n",
            "Эпоха 2/3, loss: 2.0194\n",
            "Эпоха 3/3, loss: 1.7843\n",
            "Насколько круто: 0.49 49/100\n",
            "for model efficient_net\n",
            "f1: 0.49\n",
            "presicion: 0.62\n",
            "acc: 0.49\n",
            "recall 0.51\n"
          ]
        }
      ],
      "source": [
        "# Меняем модель\n",
        "model_effnet = efficientnet_b0(weights=EfficientNet_B0_Weights.DEFAULT)\n",
        "model_effnet.classifier[1] = nn.Linear(model_effnet.classifier[1].in_features, len(class_names))\n",
        "model_effnet = model_effnet.to(device)\n",
        "\n",
        "optimizer_eff = optim.Adam(model_effnet.parameters(), lr=1e-4)\n",
        "criterion_eff = nn.CrossEntropyLoss()\n",
        "\n",
        "train_classifier(model_effnet, criterion_eff, optimizer_eff, train_loader_hp, test_loader_hp, num_epochs=3)\n",
        "\n",
        "report_eff = metrics_model(model_effnet, \"efficient_net\", test_loader_hp)"
      ]
    },
    {
      "cell_type": "markdown",
      "metadata": {
        "id": "ku8r0jaZPkDz"
      },
      "source": [
        "Не работает гипотеза\n",
        "Самое крутое что получили это другие параметры - больше эпох и лучше lr"
      ]
    },
    {
      "cell_type": "markdown",
      "metadata": {},
      "source": [
        "---"
      ]
    },
    {
      "cell_type": "markdown",
      "metadata": {
        "id": "Mc6IiJFrPxUc"
      },
      "source": [
        "Улучшенный бейслайн"
      ]
    },
    {
      "cell_type": "code",
      "execution_count": null,
      "metadata": {
        "id": "Dzwz_QvCRJNp"
      },
      "outputs": [],
      "source": [
        "def metrics_model(model, name, loader):\n",
        "    print(f\"for model {name}\")\n",
        "    info = slovaric_info(model, loader, class_names)\n",
        "    f1 = info[\"macro avg\"][\"f1-score\"]\n",
        "    print(f\"f1: {f1:.2f}\")\n",
        "    presicion = info[\"macro avg\"][\"precision\"]\n",
        "    print(f\"presicion: {presicion:.2f}\")\n",
        "    acc = info[\"accuracy\"]\n",
        "    print(f\"acc: {acc:.2f}\")\n",
        "    recall = info[\"macro avg\"][\"recall\"]\n",
        "    print(f\"recall {recall:.2f}\")\n",
        "    return info\n"
      ]
    },
    {
      "cell_type": "markdown",
      "metadata": {},
      "source": [
        "Обучаем на лучших параметрах, другие не отработали гипотезы"
      ]
    },
    {
      "cell_type": "code",
      "execution_count": null,
      "metadata": {
        "colab": {
          "base_uri": "https://localhost:8080/"
        },
        "id": "4JAznTI2Qn2T",
        "outputId": "920f377e-cbd0-44d7-8879-ca3778c0b878"
      },
      "outputs": [
        {
          "name": "stdout",
          "output_type": "stream",
          "text": [
            "Эпоха 1/5, loss: 2.2194\n",
            "Эпоха 2/5, loss: 0.9223\n",
            "Эпоха 3/5, loss: 0.4549\n",
            "Эпоха 4/5, loss: 0.2809\n",
            "Эпоха 5/5, loss: 0.1698\n",
            "Насколько круто: 0.72 72/100\n",
            "for model resnet18 \n",
            "f1: 0.73\n",
            "presicion: 0.80\n",
            "acc: 0.72\n",
            "recall 0.72\n"
          ]
        },
        {
          "data": {
            "text/plain": [
              "{'SUV': {'precision': 0.9,\n",
              "  'recall': 0.8181818181818182,\n",
              "  'f1-score': 0.8571428571428571,\n",
              "  'support': 11.0},\n",
              " 'bus': {'precision': 1.0,\n",
              "  'recall': 0.6666666666666666,\n",
              "  'f1-score': 0.8,\n",
              "  'support': 9.0},\n",
              " 'family sedan': {'precision': 0.35294117647058826,\n",
              "  'recall': 0.8571428571428571,\n",
              "  'f1-score': 0.5,\n",
              "  'support': 7.0},\n",
              " 'fire engine': {'precision': 0.3333333333333333,\n",
              "  'recall': 0.7142857142857143,\n",
              "  'f1-score': 0.45454545454545453,\n",
              "  'support': 7.0},\n",
              " 'heavy truck': {'precision': 0.7,\n",
              "  'recall': 0.7,\n",
              "  'f1-score': 0.7,\n",
              "  'support': 10.0},\n",
              " 'jeep': {'precision': 1.0,\n",
              "  'recall': 0.7,\n",
              "  'f1-score': 0.8235294117647058,\n",
              "  'support': 10.0},\n",
              " 'minibus': {'precision': 1.0,\n",
              "  'recall': 0.6923076923076923,\n",
              "  'f1-score': 0.8181818181818182,\n",
              "  'support': 13.0},\n",
              " 'racing car': {'precision': 1.0,\n",
              "  'recall': 0.7272727272727273,\n",
              "  'f1-score': 0.8421052631578947,\n",
              "  'support': 11.0},\n",
              " 'taxi': {'precision': 0.8333333333333334,\n",
              "  'recall': 0.5,\n",
              "  'f1-score': 0.625,\n",
              "  'support': 10.0},\n",
              " 'truck': {'precision': 0.8333333333333334,\n",
              "  'recall': 0.8333333333333334,\n",
              "  'f1-score': 0.8333333333333334,\n",
              "  'support': 12.0},\n",
              " 'accuracy': 0.72,\n",
              " 'macro avg': {'precision': 0.7952941176470587,\n",
              "  'recall': 0.7209190809190809,\n",
              "  'f1-score': 0.7253838138126063,\n",
              "  'support': 100.0},\n",
              " 'weighted avg': {'precision': 0.8303725490196078,\n",
              "  'recall': 0.72,\n",
              "  'f1-score': 0.7469520525913714,\n",
              "  'support': 100.0}}"
            ]
          },
          "execution_count": 102,
          "metadata": {},
          "output_type": "execute_result"
        }
      ],
      "source": [
        "weights = ResNet18_Weights.DEFAULT\n",
        "resnet18_m = resnet18(weights=weights)\n",
        "resnet18_m.fc = nn.Linear(resnet18_m.fc.in_features, len(class_names))\n",
        "\n",
        "criterion = nn.CrossEntropyLoss()\n",
        "optimizer = optim.Adam(resnet18_m.parameters(), lr=1e-4)\n",
        "\n",
        "train_classifier(resnet18_m, criterion, optimizer, train_loader, test_loader, num_epochs=5)\n",
        "metrics_model(resnet18_m,\"resnet18 \", test_loader)"
      ]
    },
    {
      "cell_type": "markdown",
      "metadata": {
        "id": "WVsKG0W9QzUD"
      },
      "source": []
    },
    {
      "cell_type": "code",
      "execution_count": null,
      "metadata": {
        "colab": {
          "base_uri": "https://localhost:8080/"
        },
        "id": "TjXn-MJSPtbD",
        "outputId": "55124d9a-224c-4ebc-bd59-875a7433320d"
      },
      "outputs": [
        {
          "name": "stdout",
          "output_type": "stream",
          "text": [
            "Эпоха 1/5, loss: 2.1143\n",
            "Эпоха 2/5, loss: 0.9318\n",
            "Эпоха 3/5, loss: 0.3987\n",
            "Эпоха 4/5, loss: 0.1848\n",
            "Эпоха 5/5, loss: 0.0924\n",
            "Насколько круто: 0.83 83/100\n",
            "for model vit\n",
            "f1: 0.82\n",
            "presicion: 0.88\n",
            "acc: 0.83\n",
            "recall 0.82\n"
          ]
        },
        {
          "data": {
            "text/plain": [
              "{'SUV': {'precision': 0.625,\n",
              "  'recall': 0.9090909090909091,\n",
              "  'f1-score': 0.7407407407407407,\n",
              "  'support': 11.0},\n",
              " 'bus': {'precision': 1.0,\n",
              "  'recall': 0.8888888888888888,\n",
              "  'f1-score': 0.9411764705882353,\n",
              "  'support': 9.0},\n",
              " 'family sedan': {'precision': 1.0,\n",
              "  'recall': 0.42857142857142855,\n",
              "  'f1-score': 0.6,\n",
              "  'support': 7.0},\n",
              " 'fire engine': {'precision': 0.7777777777777778,\n",
              "  'recall': 1.0,\n",
              "  'f1-score': 0.875,\n",
              "  'support': 7.0},\n",
              " 'heavy truck': {'precision': 1.0,\n",
              "  'recall': 0.6,\n",
              "  'f1-score': 0.75,\n",
              "  'support': 10.0},\n",
              " 'jeep': {'precision': 1.0,\n",
              "  'recall': 0.9,\n",
              "  'f1-score': 0.9473684210526315,\n",
              "  'support': 10.0},\n",
              " 'minibus': {'precision': 1.0,\n",
              "  'recall': 0.8461538461538461,\n",
              "  'f1-score': 0.9166666666666666,\n",
              "  'support': 13.0},\n",
              " 'racing car': {'precision': 1.0,\n",
              "  'recall': 0.9090909090909091,\n",
              "  'f1-score': 0.9523809523809523,\n",
              "  'support': 11.0},\n",
              " 'taxi': {'precision': 0.625,\n",
              "  'recall': 1.0,\n",
              "  'f1-score': 0.7692307692307693,\n",
              "  'support': 10.0},\n",
              " 'truck': {'precision': 0.75,\n",
              "  'recall': 0.75,\n",
              "  'f1-score': 0.75,\n",
              "  'support': 12.0},\n",
              " 'accuracy': 0.83,\n",
              " 'macro avg': {'precision': 0.8777777777777779,\n",
              "  'recall': 0.8231795981795982,\n",
              "  'f1-score': 0.8242564020659995,\n",
              "  'support': 100.0},\n",
              " 'weighted avg': {'precision': 0.8756944444444444,\n",
              "  'recall': 0.83,\n",
              "  'f1-score': 0.8300258542913341,\n",
              "  'support': 100.0}}"
            ]
          },
          "execution_count": 103,
          "metadata": {},
          "output_type": "execute_result"
        }
      ],
      "source": [
        "weights = ViT_B_16_Weights.DEFAULT\n",
        "vit_m = vit_b_16(weights=weights)\n",
        "vit_m.heads.head = nn.Linear(vit_m.heads.head.in_features, len(class_names))\n",
        "\n",
        "criterion_vit = nn.CrossEntropyLoss()\n",
        "# Нужен свой т.к свои параметры и в прошлом остались от прошлой модели измененные\n",
        "optimizer_vit = optim.Adam(vit_m.parameters(), lr=1e-4)\n",
        "\n",
        "train_classifier(vit_m, criterion_vit, optimizer_vit, train_loader, test_loader, num_epochs=5)\n",
        "metrics_model(vit_m,\"vit\", test_loader)"
      ]
    },
    {
      "cell_type": "markdown",
      "metadata": {},
      "source": [
        "---\n"
      ]
    },
    {
      "cell_type": "markdown",
      "metadata": {},
      "source": [
        "# 4 Собственная имплементация"
      ]
    },
    {
      "cell_type": "code",
      "execution_count": null,
      "metadata": {
        "colab": {
          "base_uri": "https://localhost:8080/"
        },
        "id": "N5VXuekORp0A",
        "outputId": "38091c0d-c9a9-48ef-f47f-41bc6596b36e"
      },
      "outputs": [
        {
          "name": "stdout",
          "output_type": "stream",
          "text": [
            "CustomCNN(\n",
            "  (features): Sequential(\n",
            "    (0): Conv2d(3, 32, kernel_size=(3, 3), stride=(1, 1), padding=(1, 1))\n",
            "    (1): ReLU(inplace=True)\n",
            "    (2): BatchNorm2d(32, eps=1e-05, momentum=0.1, affine=True, track_running_stats=True)\n",
            "    (3): MaxPool2d(kernel_size=2, stride=2, padding=0, dilation=1, ceil_mode=False)\n",
            "    (4): Conv2d(32, 32, kernel_size=(3, 3), stride=(1, 1), padding=(1, 1))\n",
            "    (5): ReLU(inplace=True)\n",
            "    (6): BatchNorm2d(32, eps=1e-05, momentum=0.1, affine=True, track_running_stats=True)\n",
            "    (7): Conv2d(32, 64, kernel_size=(3, 3), stride=(1, 1), padding=(1, 1))\n",
            "    (8): ReLU(inplace=True)\n",
            "    (9): BatchNorm2d(64, eps=1e-05, momentum=0.1, affine=True, track_running_stats=True)\n",
            "    (10): Conv2d(64, 64, kernel_size=(3, 3), stride=(1, 1), padding=(1, 1))\n",
            "    (11): ReLU(inplace=True)\n",
            "    (12): MaxPool2d(kernel_size=2, stride=2, padding=0, dilation=1, ceil_mode=False)\n",
            "    (13): Conv2d(64, 128, kernel_size=(3, 3), stride=(1, 1), padding=(1, 1))\n",
            "    (14): ReLU(inplace=True)\n",
            "    (15): BatchNorm2d(128, eps=1e-05, momentum=0.1, affine=True, track_running_stats=True)\n",
            "    (16): Conv2d(128, 128, kernel_size=(3, 3), stride=(1, 1), padding=(1, 1))\n",
            "    (17): ReLU(inplace=True)\n",
            "    (18): MaxPool2d(kernel_size=2, stride=2, padding=0, dilation=1, ceil_mode=False)\n",
            "    (19): Conv2d(128, 256, kernel_size=(3, 3), stride=(1, 1), padding=(1, 1))\n",
            "    (20): ReLU(inplace=True)\n",
            "    (21): MaxPool2d(kernel_size=2, stride=2, padding=0, dilation=1, ceil_mode=False)\n",
            "    (22): Conv2d(256, 512, kernel_size=(3, 3), stride=(1, 1), padding=(1, 1))\n",
            "    (23): ReLU(inplace=True)\n",
            "    (24): MaxPool2d(kernel_size=2, stride=2, padding=0, dilation=1, ceil_mode=False)\n",
            "  )\n",
            "  (flatten): Flatten(start_dim=1, end_dim=-1)\n",
            "  (fc1): Linear(in_features=25088, out_features=512, bias=True)\n",
            "  (fc2): Linear(in_features=512, out_features=10, bias=True)\n",
            "  (dropout): Dropout(p=0.5, inplace=False)\n",
            ")\n"
          ]
        }
      ],
      "source": [
        "# кастомная имплмементация \n",
        "class CustomCNN(nn.Module):\n",
        "    def __init__(self, num_classes=10):\n",
        "        super(CustomCNN, self).__init__()\n",
        "\n",
        "        self.features = nn.Sequential(\n",
        "            nn.Conv2d(3, 32, kernel_size=3, padding=1),\n",
        "            nn.ReLU(inplace=True),\n",
        "            nn.BatchNorm2d(32),\n",
        "            nn.MaxPool2d(2),\n",
        "\n",
        "            nn.Conv2d(32, 32, 3, padding=1),\n",
        "            nn.ReLU(inplace=True),\n",
        "            nn.BatchNorm2d(32),\n",
        "            nn.Conv2d(32, 64, 3, padding=1),\n",
        "            nn.ReLU(inplace=True),\n",
        "            nn.BatchNorm2d(64),\n",
        "            nn.Conv2d(64, 64, 3, padding=1),\n",
        "            nn.ReLU(inplace=True),\n",
        "            nn.MaxPool2d(2),\n",
        "            nn.Conv2d(64, 128, 3, padding=1),\n",
        "            nn.ReLU(inplace=True),\n",
        "            nn.BatchNorm2d(128),\n",
        "            nn.Conv2d(128, 128, 3, padding=1),\n",
        "            nn.ReLU(inplace=True),\n",
        "            nn.MaxPool2d(2),\n",
        "\n",
        "            nn.Conv2d(128, 256, 3, padding=1),\n",
        "            nn.ReLU(inplace=True),\n",
        "            nn.MaxPool2d(2),\n",
        "\n",
        "            nn.Conv2d(256, 512, 3, padding=1),\n",
        "            nn.ReLU(inplace=True),\n",
        "            nn.MaxPool2d(2)\n",
        "        )\n",
        "\n",
        "        self.flatten = nn.Flatten()\n",
        "        self.fc1 = nn.Linear(512 * 7 * 7, 512)\n",
        "        self.fc2 = nn.Linear(512, num_classes)\n",
        "        self.dropout = nn.Dropout(0.5)\n",
        "\n",
        "    def forward(self, x):\n",
        "        x = self.features(x)\n",
        "        x = self.flatten(x)\n",
        "        x = self.dropout(x)\n",
        "        x = nn.functional.relu(self.fc1(x))\n",
        "        x = self.fc2(x)\n",
        "        return x\n",
        "\n",
        "model_custom = CustomCNN(num_classes=10).to(device)\n",
        "print(model_custom)"
      ]
    },
    {
      "cell_type": "code",
      "execution_count": null,
      "metadata": {
        "colab": {
          "base_uri": "https://localhost:8080/"
        },
        "id": "2vYDvusJSbLT",
        "outputId": "789995da-0a5b-422e-f852-facf19ebd6d3"
      },
      "outputs": [
        {
          "name": "stdout",
          "output_type": "stream",
          "text": [
            "Эпоха 1/3, loss: 4.4152\n",
            "Эпоха 2/3, loss: 2.3111\n",
            "Эпоха 3/3, loss: 2.2997\n",
            "Насколько круто: 0.13 13/100\n",
            "for model cnn custom \n",
            "f1: 0.02\n",
            "presicion: 0.01\n",
            "acc: 0.13\n",
            "recall 0.10\n"
          ]
        },
        {
          "data": {
            "text/plain": [
              "{'SUV': {'precision': 0.0, 'recall': 0.0, 'f1-score': 0.0, 'support': 11.0},\n",
              " 'bus': {'precision': 0.0, 'recall': 0.0, 'f1-score': 0.0, 'support': 9.0},\n",
              " 'family sedan': {'precision': 0.0,\n",
              "  'recall': 0.0,\n",
              "  'f1-score': 0.0,\n",
              "  'support': 7.0},\n",
              " 'fire engine': {'precision': 0.0,\n",
              "  'recall': 0.0,\n",
              "  'f1-score': 0.0,\n",
              "  'support': 7.0},\n",
              " 'heavy truck': {'precision': 0.0,\n",
              "  'recall': 0.0,\n",
              "  'f1-score': 0.0,\n",
              "  'support': 10.0},\n",
              " 'jeep': {'precision': 0.0, 'recall': 0.0, 'f1-score': 0.0, 'support': 10.0},\n",
              " 'minibus': {'precision': 0.13,\n",
              "  'recall': 1.0,\n",
              "  'f1-score': 0.23008849557522124,\n",
              "  'support': 13.0},\n",
              " 'racing car': {'precision': 0.0,\n",
              "  'recall': 0.0,\n",
              "  'f1-score': 0.0,\n",
              "  'support': 11.0},\n",
              " 'taxi': {'precision': 0.0, 'recall': 0.0, 'f1-score': 0.0, 'support': 10.0},\n",
              " 'truck': {'precision': 0.0, 'recall': 0.0, 'f1-score': 0.0, 'support': 12.0},\n",
              " 'accuracy': 0.13,\n",
              " 'macro avg': {'precision': 0.013000000000000001,\n",
              "  'recall': 0.1,\n",
              "  'f1-score': 0.023008849557522124,\n",
              "  'support': 100.0},\n",
              " 'weighted avg': {'precision': 0.0169,\n",
              "  'recall': 0.13,\n",
              "  'f1-score': 0.02991150442477876,\n",
              "  'support': 100.0}}"
            ]
          },
          "execution_count": 105,
          "metadata": {},
          "output_type": "execute_result"
        }
      ],
      "source": [
        "# Работает отвратительно :C\n",
        "criterion = nn.CrossEntropyLoss()\n",
        "optimizer = optim.Adam(model_custom.parameters(), lr=1e-3)\n",
        "\n",
        "train_classifier(model_custom, criterion, optimizer, train_loader, test_loader, num_epochs=3)\n",
        "metrics_model(model_custom,\"cnn custom \", test_loader)"
      ]
    },
    {
      "cell_type": "code",
      "execution_count": null,
      "metadata": {
        "id": "UGEA8Nu1Um5b"
      },
      "outputs": [],
      "source": [
        "# кастомная имплмементация \n",
        "class CustomTransformer(nn.Module):\n",
        "    def __init__(self, image_size=224,\n",
        "                 patch_size=16,\n",
        "                 in_channels=3,\n",
        "                 num_classes=10,\n",
        "                 embed_dim=256,\n",
        "                 num_heads=8,\n",
        "                 depth=8,\n",
        "                 dropout=0.1):\n",
        "\n",
        "        super(CustomTransformer, self).__init__()\n",
        "        assert image_size % patch_size == 0\n",
        "        self.num_patches = (image_size // patch_size) ** 2\n",
        "\n",
        "        self.patch_embed = nn.Conv2d(in_channels, embed_dim,\n",
        "                                    kernel_size=patch_size,\n",
        "                                    stride=patch_size)\n",
        "\n",
        "        self.cls_token = nn.Parameter(torch.randn(1, 1, embed_dim))\n",
        "        self.pos_embed = nn.Parameter(\n",
        "            torch.randn(1, self.num_patches + 1, embed_dim)\n",
        "        )\n",
        "\n",
        "        self.transformer = nn.TransformerEncoder(\n",
        "            nn.TransformerEncoderLayer(\n",
        "                d_model=embed_dim,\n",
        "                nhead=num_heads,\n",
        "                dropout=dropout,\n",
        "                activation='gelu',\n",
        "                batch_first=True\n",
        "            ),\n",
        "            num_layers=depth\n",
        "        )\n",
        "\n",
        "        self.mlp_head = nn.Sequential(\n",
        "            nn.LayerNorm(embed_dim),\n",
        "            nn.Linear(embed_dim, num_classes))\n",
        "\n",
        "        self.dropout = nn.Dropout(dropout)\n",
        "\n",
        "    def forward(self, x):\n",
        "        B, C, H, W = x.shape\n",
        "\n",
        "        x = self.patch_embed(x) \n",
        "        x = x.flatten(2).transpose(1, 2)\n",
        "\n",
        "        cls_tokens = self.cls_token.expand(B, -1, -1)\n",
        "        x = torch.cat((cls_tokens, x), dim=1)\n",
        "\n",
        "        x += self.pos_embed\n",
        "        x = self.dropout(x)\n",
        "\n",
        "        x = self.transformer(x)\n",
        "\n",
        "        x = x[:, 0]\n",
        "        return self.mlp_head(x)\n",
        "\n",
        "model_transformer = CustomTransformer(\n",
        "    image_size=224,\n",
        "    patch_size=16,\n",
        "    num_classes=10,\n",
        "    embed_dim=256,\n",
        "    num_heads=8,\n",
        "    depth=8,\n",
        "    dropout=0.1\n",
        ").to(device)"
      ]
    },
    {
      "cell_type": "code",
      "execution_count": null,
      "metadata": {
        "colab": {
          "base_uri": "https://localhost:8080/"
        },
        "id": "-4-m1IH_Ur_l",
        "outputId": "1d8b2852-de74-41a5-cad7-701ae70df9b0"
      },
      "outputs": [
        {
          "name": "stdout",
          "output_type": "stream",
          "text": [
            "Эпоха 1/3, loss: 2.9990\n",
            "Эпоха 2/3, loss: 2.8185\n",
            "Эпоха 3/3, loss: 2.5807\n",
            "Насколько круто: 0.10 10/100\n",
            "for model transformer custom \n",
            "f1: 0.02\n",
            "presicion: 0.01\n",
            "acc: 0.10\n",
            "recall 0.10\n"
          ]
        },
        {
          "data": {
            "text/plain": [
              "{'SUV': {'precision': 0.0, 'recall': 0.0, 'f1-score': 0.0, 'support': 11.0},\n",
              " 'bus': {'precision': 0.0, 'recall': 0.0, 'f1-score': 0.0, 'support': 9.0},\n",
              " 'family sedan': {'precision': 0.0,\n",
              "  'recall': 0.0,\n",
              "  'f1-score': 0.0,\n",
              "  'support': 7.0},\n",
              " 'fire engine': {'precision': 0.0,\n",
              "  'recall': 0.0,\n",
              "  'f1-score': 0.0,\n",
              "  'support': 7.0},\n",
              " 'heavy truck': {'precision': 0.0,\n",
              "  'recall': 0.0,\n",
              "  'f1-score': 0.0,\n",
              "  'support': 10.0},\n",
              " 'jeep': {'precision': 0.1,\n",
              "  'recall': 1.0,\n",
              "  'f1-score': 0.18181818181818182,\n",
              "  'support': 10.0},\n",
              " 'minibus': {'precision': 0.0,\n",
              "  'recall': 0.0,\n",
              "  'f1-score': 0.0,\n",
              "  'support': 13.0},\n",
              " 'racing car': {'precision': 0.0,\n",
              "  'recall': 0.0,\n",
              "  'f1-score': 0.0,\n",
              "  'support': 11.0},\n",
              " 'taxi': {'precision': 0.0, 'recall': 0.0, 'f1-score': 0.0, 'support': 10.0},\n",
              " 'truck': {'precision': 0.0, 'recall': 0.0, 'f1-score': 0.0, 'support': 12.0},\n",
              " 'accuracy': 0.1,\n",
              " 'macro avg': {'precision': 0.01,\n",
              "  'recall': 0.1,\n",
              "  'f1-score': 0.01818181818181818,\n",
              "  'support': 100.0},\n",
              " 'weighted avg': {'precision': 0.01,\n",
              "  'recall': 0.1,\n",
              "  'f1-score': 0.018181818181818184,\n",
              "  'support': 100.0}}"
            ]
          },
          "execution_count": 107,
          "metadata": {},
          "output_type": "execute_result"
        }
      ],
      "source": [
        "criterion = nn.CrossEntropyLoss()\n",
        "optimizer = optim.Adam(model_transformer.parameters(), lr=1e-3)\n",
        "\n",
        "train_classifier(model_transformer, criterion, optimizer, train_loader, test_loader, num_epochs=3)\n",
        "metrics_model(model_transformer,\"transformer custom \", test_loader)"
      ]
    },
    {
      "cell_type": "code",
      "execution_count": null,
      "metadata": {
        "colab": {
          "base_uri": "https://localhost:8080/"
        },
        "id": "tHrV5dOnVv9E",
        "outputId": "037becb4-8456-453b-e3ab-acaa0165b83a"
      },
      "outputs": [
        {
          "name": "stdout",
          "output_type": "stream",
          "text": [
            "Эпоха 1/5, loss: 2.3043\n",
            "Эпоха 2/5, loss: 2.2774\n",
            "Эпоха 3/5, loss: 2.2721\n",
            "Эпоха 4/5, loss: 2.2568\n",
            "Эпоха 5/5, loss: 2.2412\n",
            "Насколько круто: 0.07 7/100\n",
            "for model cnn custom \n",
            "f1: 0.01\n",
            "presicion: 0.01\n",
            "acc: 0.07\n",
            "recall 0.10\n"
          ]
        },
        {
          "data": {
            "text/plain": [
              "{'SUV': {'precision': 0.0, 'recall': 0.0, 'f1-score': 0.0, 'support': 11.0},\n",
              " 'bus': {'precision': 0.0, 'recall': 0.0, 'f1-score': 0.0, 'support': 9.0},\n",
              " 'family sedan': {'precision': 0.07,\n",
              "  'recall': 1.0,\n",
              "  'f1-score': 0.1308411214953271,\n",
              "  'support': 7.0},\n",
              " 'fire engine': {'precision': 0.0,\n",
              "  'recall': 0.0,\n",
              "  'f1-score': 0.0,\n",
              "  'support': 7.0},\n",
              " 'heavy truck': {'precision': 0.0,\n",
              "  'recall': 0.0,\n",
              "  'f1-score': 0.0,\n",
              "  'support': 10.0},\n",
              " 'jeep': {'precision': 0.0, 'recall': 0.0, 'f1-score': 0.0, 'support': 10.0},\n",
              " 'minibus': {'precision': 0.0,\n",
              "  'recall': 0.0,\n",
              "  'f1-score': 0.0,\n",
              "  'support': 13.0},\n",
              " 'racing car': {'precision': 0.0,\n",
              "  'recall': 0.0,\n",
              "  'f1-score': 0.0,\n",
              "  'support': 11.0},\n",
              " 'taxi': {'precision': 0.0, 'recall': 0.0, 'f1-score': 0.0, 'support': 10.0},\n",
              " 'truck': {'precision': 0.0, 'recall': 0.0, 'f1-score': 0.0, 'support': 12.0},\n",
              " 'accuracy': 0.07,\n",
              " 'macro avg': {'precision': 0.007000000000000001,\n",
              "  'recall': 0.1,\n",
              "  'f1-score': 0.01308411214953271,\n",
              "  'support': 100.0},\n",
              " 'weighted avg': {'precision': 0.004900000000000001,\n",
              "  'recall': 0.07,\n",
              "  'f1-score': 0.009158878504672896,\n",
              "  'support': 100.0}}"
            ]
          },
          "execution_count": 108,
          "metadata": {},
          "output_type": "execute_result"
        }
      ],
      "source": [
        "# Улучшаем бейслайн\n",
        "model_custom = CustomCNN(num_classes=10).to(device)\n",
        "\n",
        "criterion = nn.CrossEntropyLoss()\n",
        "optimizer = optim.Adam(model_custom.parameters(), lr=1e-5)\n",
        "\n",
        "train_classifier(model_custom, criterion, optimizer, train_loader, test_loader, num_epochs=5)\n",
        "metrics_model(model_custom,\"cnn custom \", test_loader)"
      ]
    },
    {
      "cell_type": "code",
      "execution_count": null,
      "metadata": {
        "colab": {
          "base_uri": "https://localhost:8080/"
        },
        "id": "e5y3mDCWV8LQ",
        "outputId": "719bafbe-2271-40a3-c7ba-7d7797cdcf97"
      },
      "outputs": [
        {
          "name": "stdout",
          "output_type": "stream",
          "text": [
            "Эпоха 1/5, loss: 2.3523\n",
            "Эпоха 2/5, loss: 2.2862\n",
            "Эпоха 3/5, loss: 2.2436\n",
            "Эпоха 4/5, loss: 2.2377\n",
            "Эпоха 5/5, loss: 2.1934\n",
            "Насколько круто: 0.10 10/100\n",
            "for model transformer custom \n",
            "f1: 0.04\n",
            "presicion: 0.02\n",
            "acc: 0.10\n",
            "recall 0.14\n"
          ]
        },
        {
          "data": {
            "text/plain": [
              "{'SUV': {'precision': 0.0, 'recall': 0.0, 'f1-score': 0.0, 'support': 11.0},\n",
              " 'bus': {'precision': 0.0, 'recall': 0.0, 'f1-score': 0.0, 'support': 9.0},\n",
              " 'family sedan': {'precision': 0.06557377049180328,\n",
              "  'recall': 0.5714285714285714,\n",
              "  'f1-score': 0.11764705882352941,\n",
              "  'support': 7.0},\n",
              " 'fire engine': {'precision': 0.15384615384615385,\n",
              "  'recall': 0.8571428571428571,\n",
              "  'f1-score': 0.2608695652173913,\n",
              "  'support': 7.0},\n",
              " 'heavy truck': {'precision': 0.0,\n",
              "  'recall': 0.0,\n",
              "  'f1-score': 0.0,\n",
              "  'support': 10.0},\n",
              " 'jeep': {'precision': 0.0, 'recall': 0.0, 'f1-score': 0.0, 'support': 10.0},\n",
              " 'minibus': {'precision': 0.0,\n",
              "  'recall': 0.0,\n",
              "  'f1-score': 0.0,\n",
              "  'support': 13.0},\n",
              " 'racing car': {'precision': 0.0,\n",
              "  'recall': 0.0,\n",
              "  'f1-score': 0.0,\n",
              "  'support': 11.0},\n",
              " 'taxi': {'precision': 0.0, 'recall': 0.0, 'f1-score': 0.0, 'support': 10.0},\n",
              " 'truck': {'precision': 0.0, 'recall': 0.0, 'f1-score': 0.0, 'support': 12.0},\n",
              " 'accuracy': 0.1,\n",
              " 'macro avg': {'precision': 0.021941992433795715,\n",
              "  'recall': 0.14285714285714285,\n",
              "  'f1-score': 0.03785166240409207,\n",
              "  'support': 100.0},\n",
              " 'weighted avg': {'precision': 0.015359394703657001,\n",
              "  'recall': 0.1,\n",
              "  'f1-score': 0.02649616368286445,\n",
              "  'support': 100.0}}"
            ]
          },
          "execution_count": 109,
          "metadata": {},
          "output_type": "execute_result"
        }
      ],
      "source": [
        "model_transformer = CustomTransformer(\n",
        "    image_size=224,    # Стандартный размер для большинства датасетов\n",
        "    patch_size=16,     # 224/16 = 14 -> 14x14 патчей\n",
        "    num_classes=10,    # Количество классов\n",
        "    embed_dim=256,\n",
        "    num_heads=8,\n",
        "    depth=8,\n",
        "    dropout=0.1\n",
        ").to(device)\n",
        "\n",
        "criterion = nn.CrossEntropyLoss()\n",
        "optimizer = optim.Adam(model_transformer.parameters(), lr=1e-5)\n",
        "\n",
        "train_classifier(model_transformer, criterion, optimizer, train_loader, test_loader, num_epochs=5)\n",
        "metrics_model(model_transformer,\"transformer custom \", test_loader)"
      ]
    },
    {
      "cell_type": "markdown",
      "metadata": {
        "id": "Gmv6UJouWTTf"
      },
      "source": [
        "Как итог ясно: что модели делали умные люди и нормально не получилось обучить, хоть и старался. :C"
      ]
    },
    {
      "cell_type": "markdown",
      "metadata": {},
      "source": [
        "| Модель | **f1** | **precision** | **accuracy**| **recall**|\n",
        "| --------| :---------: | :---------: |------- | -------|\n",
        "| resnet18 |  0.26    |    0.32    | 0.35| 0.31|\n",
        "| vit   |  0.80|  0.86  | 0.78| 0.80|\n",
        "| resnet18 (разные картинки изменение)                     |    0.30    |    0.49    |0.34 | 0.34|\n",
        "| vit (разные картинки изменение) |    0.71    |    0.77    |0.75 | 0.74|\n",
        "| resnet18 (лучшие параметры)                     |   0.83   |    0.85    |0.82 | 0.82|\n",
        "| vit (лучшие параметры) |    0.91    |    0.92    |0.92 | 0.92|\n",
        "| собственный (CNN)                     |   0.02   |    0.01    |0.13 | 0.10|\n",
        "| собственный (трансформер) |   0.02   |    0.01    |0.10 | 0.10|\n",
        "| собственный (CNN) (улучшенный )                    |   0.01   |    0.01    |0.07 | 0.10|\n",
        "| собственный (трансформер) (улучшенный) |   0.04   |    0.02    |0.10 | 0.14|"
      ]
    },
    {
      "cell_type": "markdown",
      "metadata": {},
      "source": [
        "Вывод - люди сделали крутые модели, которые работают. Меня поразило, что можно так высоко в 92 процента делать распознавание. Теперь ясно, что такая система в Москве может работать для распознавания и это несомненно очень круто, что мы живем в такое время"
      ]
    }
  ],
  "metadata": {
    "accelerator": "GPU",
    "colab": {
      "gpuType": "T4",
      "provenance": []
    },
    "kernelspec": {
      "display_name": "Python 3",
      "name": "python3"
    },
    "language_info": {
      "name": "python"
    }
  },
  "nbformat": 4,
  "nbformat_minor": 0
}
