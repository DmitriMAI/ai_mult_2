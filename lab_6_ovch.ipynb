{
  "cells": [
    {
      "cell_type": "markdown",
      "metadata": {
        "id": "N4CdHSAa0ah8"
      },
      "source": [
        "# Выбор начальных условий\n",
        "а. Набор данных для сегментации\n",
        "Скачиваем датасет.  \n",
        "https://www.kaggle.com/datasets/abdallahwagih/kvasir-dataset-for-classification-and-segmentation\n",
        "\n",
        "В нем куча страшных картинок что может быть внутри человеческого желудка. Заболевания. Маска показывает есть ли оно там. Всего 2 класса на нее и отсутствие. Модели могут больше воспринимать, но не так много интересного можно увидеть в желудке.  \n",
        "\n",
        "b. Выбор метрик\n",
        "1) IoU (Intersection over Union) — отношение площади пересечения предсказанной и истинной маски к их объединению.\n",
        "2) Pixel Accuracy — доля правильно классифицированных пикселей.    "
      ]
    },
    {
      "cell_type": "markdown",
      "metadata": {},
      "source": [
        "Работу выполнил Овчинников Дмитрий Максимович М8О-406Б-21  "
      ]
    },
    {
      "cell_type": "code",
      "execution_count": 2,
      "metadata": {},
      "outputs": [
        {
          "name": "stdout",
          "output_type": "stream",
          "text": [
            "\u001b[33mWARNING: Ignoring invalid distribution -inja2 (/Users/dmovchinnikov/.pyenv/versions/3.7.13/lib/python3.7/site-packages)\u001b[0m\u001b[33m\n",
            "\u001b[0m\u001b[33mWARNING: Ignoring invalid distribution -inja2 (/Users/dmovchinnikov/.pyenv/versions/3.7.13/lib/python3.7/site-packages)\u001b[0m\u001b[33m\n",
            "\u001b[0mCollecting kagglehub\n",
            "  Downloading kagglehub-0.2.9-py3-none-any.whl (39 kB)\n",
            "Requirement already satisfied: packaging in /Users/dmovchinnikov/.pyenv/versions/3.7.13/lib/python3.7/site-packages (from kagglehub) (24.0)\n",
            "Collecting tqdm\n",
            "  Downloading tqdm-4.67.1-py3-none-any.whl (78 kB)\n",
            "\u001b[2K     \u001b[90m━━━━━━━━━━━━━━━━━━━━━━━━━━━━━━━━━━━━━━━━\u001b[0m \u001b[32m78.5/78.5 KB\u001b[0m \u001b[31m3.1 MB/s\u001b[0m eta \u001b[36m0:00:00\u001b[0m\n",
            "\u001b[?25hCollecting requests\n",
            "  Downloading requests-2.31.0-py3-none-any.whl (62 kB)\n",
            "\u001b[2K     \u001b[90m━━━━━━━━━━━━━━━━━━━━━━━━━━━━━━━━━━━━━━━━\u001b[0m \u001b[32m62.6/62.6 KB\u001b[0m \u001b[31m5.8 MB/s\u001b[0m eta \u001b[36m0:00:00\u001b[0m\n",
            "\u001b[?25hCollecting charset-normalizer<4,>=2\n",
            "  Downloading charset_normalizer-3.4.2-py3-none-any.whl (52 kB)\n",
            "\u001b[2K     \u001b[90m━━━━━━━━━━━━━━━━━━━━━━━━━━━━━━━━━━━━━━━━\u001b[0m \u001b[32m52.6/52.6 KB\u001b[0m \u001b[31m3.9 MB/s\u001b[0m eta \u001b[36m0:00:00\u001b[0m\n",
            "\u001b[?25hCollecting urllib3<3,>=1.21.1\n",
            "  Downloading urllib3-2.0.7-py3-none-any.whl (124 kB)\n",
            "\u001b[2K     \u001b[90m━━━━━━━━━━━━━━━━━━━━━━━━━━━━━━━━━━━━━━━\u001b[0m \u001b[32m124.2/124.2 KB\u001b[0m \u001b[31m6.1 MB/s\u001b[0m eta \u001b[36m0:00:00\u001b[0m\n",
            "\u001b[?25hCollecting certifi>=2017.4.17\n",
            "  Downloading certifi-2025.4.26-py3-none-any.whl (159 kB)\n",
            "\u001b[2K     \u001b[90m━━━━━━━━━━━━━━━━━━━━━━━━━━━━━━━━━━━━━━━\u001b[0m \u001b[32m159.6/159.6 KB\u001b[0m \u001b[31m9.8 MB/s\u001b[0m eta \u001b[36m0:00:00\u001b[0m\n",
            "\u001b[?25hCollecting idna<4,>=2.5\n",
            "  Downloading idna-3.10-py3-none-any.whl (70 kB)\n",
            "\u001b[2K     \u001b[90m━━━━━━━━━━━━━━━━━━━━━━━━━━━━━━━━━━━━━━━━\u001b[0m \u001b[32m70.4/70.4 KB\u001b[0m \u001b[31m8.7 MB/s\u001b[0m eta \u001b[36m0:00:00\u001b[0m\n",
            "\u001b[?25h\u001b[33mWARNING: Ignoring invalid distribution -inja2 (/Users/dmovchinnikov/.pyenv/versions/3.7.13/lib/python3.7/site-packages)\u001b[0m\u001b[33m\n",
            "\u001b[0mInstalling collected packages: urllib3, tqdm, idna, charset-normalizer, certifi, requests, kagglehub\n",
            "\u001b[33mWARNING: Ignoring invalid distribution -inja2 (/Users/dmovchinnikov/.pyenv/versions/3.7.13/lib/python3.7/site-packages)\u001b[0m\u001b[33m\n",
            "\u001b[0m\u001b[33mWARNING: Ignoring invalid distribution -inja2 (/Users/dmovchinnikov/.pyenv/versions/3.7.13/lib/python3.7/site-packages)\u001b[0m\u001b[33m\n",
            "\u001b[0m\u001b[33mWARNING: Ignoring invalid distribution -inja2 (/Users/dmovchinnikov/.pyenv/versions/3.7.13/lib/python3.7/site-packages)\u001b[0m\u001b[33m\n",
            "\u001b[0m\u001b[33mWARNING: Ignoring invalid distribution -inja2 (/Users/dmovchinnikov/.pyenv/versions/3.7.13/lib/python3.7/site-packages)\u001b[0m\u001b[33m\n",
            "\u001b[0m\u001b[33mWARNING: Ignoring invalid distribution -inja2 (/Users/dmovchinnikov/.pyenv/versions/3.7.13/lib/python3.7/site-packages)\u001b[0m\u001b[33m\n",
            "\u001b[0m\u001b[33mWARNING: Ignoring invalid distribution -inja2 (/Users/dmovchinnikov/.pyenv/versions/3.7.13/lib/python3.7/site-packages)\u001b[0m\u001b[33m\n",
            "\u001b[0m\u001b[33mWARNING: Ignoring invalid distribution -inja2 (/Users/dmovchinnikov/.pyenv/versions/3.7.13/lib/python3.7/site-packages)\u001b[0m\u001b[33m\n",
            "\u001b[0mSuccessfully installed certifi-2025.4.26 charset-normalizer-3.4.2 idna-3.10 kagglehub-0.2.9 requests-2.31.0 tqdm-4.67.1 urllib3-2.0.7\n",
            "\u001b[33mWARNING: Ignoring invalid distribution -inja2 (/Users/dmovchinnikov/.pyenv/versions/3.7.13/lib/python3.7/site-packages)\u001b[0m\u001b[33m\n",
            "\u001b[0m\u001b[33mWARNING: Ignoring invalid distribution -inja2 (/Users/dmovchinnikov/.pyenv/versions/3.7.13/lib/python3.7/site-packages)\u001b[0m\u001b[33m\n",
            "\u001b[0m\u001b[33mWARNING: Ignoring invalid distribution -inja2 (/Users/dmovchinnikov/.pyenv/versions/3.7.13/lib/python3.7/site-packages)\u001b[0m\u001b[33m\n",
            "\u001b[0m\u001b[33mWARNING: You are using pip version 22.0.4; however, version 24.0 is available.\n",
            "You should consider upgrading via the '/Users/dmovchinnikov/.pyenv/versions/3.7.13/bin/python3.7 -m pip install --upgrade pip' command.\u001b[0m\u001b[33m\n",
            "\u001b[0m"
          ]
        }
      ],
      "source": [
        "# качаем с kaggle, поэтому нужна\n",
        "!pip install kagglehub"
      ]
    },
    {
      "cell_type": "code",
      "execution_count": 3,
      "metadata": {
        "colab": {
          "base_uri": "https://localhost:8080/"
        },
        "id": "cocuchCW0k2c",
        "outputId": "58aa0506-5d01-42b4-83ac-5618dbaa747a"
      },
      "outputs": [
        {
          "name": "stdout",
          "output_type": "stream",
          "text": [
            "Warning: Looks like you're using an outdated `kagglehub` version, please consider updating (latest version: 0.3.12)\n",
            "Downloading from https://www.kaggle.com/api/v1/datasets/download/abdallahwagih/kvasir-dataset-for-classification-and-segmentation?dataset_version_number=1...\n"
          ]
        },
        {
          "name": "stderr",
          "output_type": "stream",
          "text": [
            "100%|██████████| 1.20G/1.20G [00:57<00:00, 22.2MB/s]"
          ]
        },
        {
          "name": "stdout",
          "output_type": "stream",
          "text": [
            "Extracting model files...\n"
          ]
        },
        {
          "name": "stderr",
          "output_type": "stream",
          "text": [
            "\n"
          ]
        },
        {
          "name": "stdout",
          "output_type": "stream",
          "text": [
            "Path to dataset files: /Users/dmovchinnikov/.cache/kagglehub/datasets/abdallahwagih/kvasir-dataset-for-classification-and-segmentation/versions/1\n"
          ]
        }
      ],
      "source": [
        "# качаем датасет\n",
        "import kagglehub\n",
        "\n",
        "# Download latest version\n",
        "path = kagglehub.dataset_download(\"abdallahwagih/kvasir-dataset-for-classification-and-segmentation\")\n",
        "\n",
        "print(\"Path to dataset files:\", path)"
      ]
    },
    {
      "cell_type": "code",
      "execution_count": null,
      "metadata": {
        "colab": {
          "base_uri": "https://localhost:8080/"
        },
        "id": "waRlpZ4n0Zd9",
        "outputId": "565f8a91-6409-45e2-efdc-1e77f86d6ca6"
      },
      "outputs": [
        {
          "name": "stdout",
          "output_type": "stream",
          "text": [
            "\u001b[34mkvasir-dataset\u001b[m\u001b[m \u001b[34mkvasir-seg\u001b[m\u001b[m\n"
          ]
        }
      ],
      "source": [
        "# Ищем где он\n",
        "!ls /Users/dmovchinnikov/.cache/kagglehub/datasets/abdallahwagih/kvasir-dataset-for-classification-and-segmentation/versions/1"
      ]
    },
    {
      "cell_type": "code",
      "execution_count": null,
      "metadata": {
        "colab": {
          "base_uri": "https://localhost:8080/"
        },
        "id": "R0xVbAk51O7L",
        "outputId": "af233918-3f43-4551-fd13-20b7509c4949"
      },
      "outputs": [
        {
          "name": "stdout",
          "output_type": "stream",
          "text": [
            "\u001b[33mWARNING: Ignoring invalid distribution -inja2 (/Users/dmovchinnikov/.pyenv/versions/3.7.13/lib/python3.7/site-packages)\u001b[0m\u001b[33m\n",
            "\u001b[0m\u001b[33mWARNING: Ignoring invalid distribution -inja2 (/Users/dmovchinnikov/.pyenv/versions/3.7.13/lib/python3.7/site-packages)\u001b[0m\u001b[33m\n",
            "\u001b[0mCollecting segmentation_models_pytorch\n",
            "  Downloading segmentation_models_pytorch-0.3.3-py3-none-any.whl (106 kB)\n",
            "\u001b[2K     \u001b[90m━━━━━━━━━━━━━━━━━━━━━━━━━━━━━━━━━━━━━━━\u001b[0m \u001b[32m106.7/106.7 KB\u001b[0m \u001b[31m1.1 MB/s\u001b[0m eta \u001b[36m0:00:00\u001b[0ma \u001b[36m0:00:01\u001b[0m\n",
            "\u001b[?25hCollecting pretrainedmodels==0.7.4\n",
            "  Downloading pretrainedmodels-0.7.4.tar.gz (58 kB)\n",
            "\u001b[2K     \u001b[90m━━━━━━━━━━━━━━━━━━━━━━━━━━━━━━━━━━━━━━━━\u001b[0m \u001b[32m58.8/58.8 KB\u001b[0m \u001b[31m3.5 MB/s\u001b[0m eta \u001b[36m0:00:00\u001b[0m\n",
            "\u001b[?25h  Preparing metadata (setup.py) ... \u001b[?25ldone\n",
            "\u001b[?25hRequirement already satisfied: tqdm in /Users/dmovchinnikov/.pyenv/versions/3.7.13/lib/python3.7/site-packages (from segmentation_models_pytorch) (4.67.1)\n",
            "Collecting timm==0.9.2\n",
            "  Downloading timm-0.9.2-py3-none-any.whl (2.2 MB)\n",
            "\u001b[2K     \u001b[90m━━━━━━━━━━━━━━━━━━━━━━━━━━━━━━━━━━━━━━━━\u001b[0m \u001b[32m2.2/2.2 MB\u001b[0m \u001b[31m6.4 MB/s\u001b[0m eta \u001b[36m0:00:00\u001b[0ma \u001b[36m0:00:01\u001b[0m\n",
            "\u001b[?25hRequirement already satisfied: pillow in /Users/dmovchinnikov/.pyenv/versions/3.7.13/lib/python3.7/site-packages (from segmentation_models_pytorch) (9.5.0)\n",
            "Collecting segmentation_models_pytorch\n",
            "  Downloading segmentation_models_pytorch-0.3.2-py3-none-any.whl (106 kB)\n",
            "\u001b[2K     \u001b[90m━━━━━━━━━━━━━━━━━━━━━━━━━━━━━━━━━━━━━━\u001b[0m \u001b[32m106.7/106.7 KB\u001b[0m \u001b[31m12.0 MB/s\u001b[0m eta \u001b[36m0:00:00\u001b[0m\n",
            "\u001b[?25hCollecting timm==0.6.12\n",
            "  Downloading timm-0.6.12-py3-none-any.whl (549 kB)\n",
            "\u001b[2K     \u001b[90m━━━━━━━━━━━━━━━━━━━━━━━━━━━━━━━━━━━━━━\u001b[0m \u001b[32m549.1/549.1 KB\u001b[0m \u001b[31m29.2 MB/s\u001b[0m eta \u001b[36m0:00:00\u001b[0m\n",
            "\u001b[?25hCollecting segmentation_models_pytorch\n",
            "  Downloading segmentation_models_pytorch-0.3.1-py3-none-any.whl (102 kB)\n",
            "\u001b[2K     \u001b[90m━━━━━━━━━━━━━━━━━━━━━━━━━━━━━━━━━━━━━━━\u001b[0m \u001b[32m102.1/102.1 KB\u001b[0m \u001b[31m8.9 MB/s\u001b[0m eta \u001b[36m0:00:00\u001b[0m\n",
            "\u001b[?25hCollecting timm==0.4.12\n",
            "  Downloading timm-0.4.12-py3-none-any.whl (376 kB)\n",
            "\u001b[2K     \u001b[90m━━━━━━━━━━━━━━━━━━━━━━━━━━━━━━━━━━━━━━\u001b[0m \u001b[32m377.0/377.0 KB\u001b[0m \u001b[31m24.7 MB/s\u001b[0m eta \u001b[36m0:00:00\u001b[0m\n",
            "\u001b[?25hCollecting segmentation_models_pytorch\n",
            "  Downloading segmentation_models_pytorch-0.3.0-py3-none-any.whl (97 kB)\n",
            "\u001b[2K     \u001b[90m━━━━━━━━━━━━━━━━━━━━━━━━━━━━━━━━━━━━━━━━\u001b[0m \u001b[32m97.9/97.9 KB\u001b[0m \u001b[31m11.3 MB/s\u001b[0m eta \u001b[36m0:00:00\u001b[0m\n",
            "\u001b[?25h  Downloading segmentation_models_pytorch-0.2.1-py3-none-any.whl (88 kB)\n",
            "\u001b[2K     \u001b[90m━━━━━━━━━━━━━━━━━━━━━━━━━━━━━━━━━━━━━━━━\u001b[0m \u001b[32m88.6/88.6 KB\u001b[0m \u001b[31m10.9 MB/s\u001b[0m eta \u001b[36m0:00:00\u001b[0m\n",
            "\u001b[?25h  Downloading segmentation_models_pytorch-0.2.0-py3-none-any.whl (87 kB)\n",
            "\u001b[2K     \u001b[90m━━━━━━━━━━━━━━━━━━━━━━━━━━━━━━━━━━━━━━━━\u001b[0m \u001b[32m87.6/87.6 KB\u001b[0m \u001b[31m10.6 MB/s\u001b[0m eta \u001b[36m0:00:00\u001b[0m\n",
            "\u001b[?25h  Downloading segmentation_models_pytorch-0.1.3-py3-none-any.whl (66 kB)\n",
            "\u001b[2K     \u001b[90m━━━━━━━━━━━━━━━━━━━━━━━━━━━━━━━━━━━━━━━━\u001b[0m \u001b[32m66.1/66.1 KB\u001b[0m \u001b[31m8.9 MB/s\u001b[0m eta \u001b[36m0:00:00\u001b[0m\n",
            "\u001b[?25hCollecting timm==0.3.2\n",
            "  Downloading timm-0.3.2-py3-none-any.whl (244 kB)\n",
            "\u001b[2K     \u001b[90m━━━━━━━━━━━━━━━━━━━━━━━━━━━━━━━━━━━━━━\u001b[0m \u001b[32m244.2/244.2 KB\u001b[0m \u001b[31m19.3 MB/s\u001b[0m eta \u001b[36m0:00:00\u001b[0m\n",
            "\u001b[?25hCollecting segmentation_models_pytorch\n",
            "  Downloading segmentation_models_pytorch-0.1.2-py3-none-any.whl (53 kB)\n",
            "\u001b[2K     \u001b[90m━━━━━━━━━━━━━━━━━━━━━━━━━━━━━━━━━━━━━━━━\u001b[0m \u001b[32m53.9/53.9 KB\u001b[0m \u001b[31m5.1 MB/s\u001b[0m eta \u001b[36m0:00:00\u001b[0m\n",
            "\u001b[?25h  Downloading segmentation_models_pytorch-0.1.1-py3-none-any.whl (53 kB)\n",
            "\u001b[2K     \u001b[90m━━━━━━━━━━━━━━━━━━━━━━━━━━━━━━━━━━━━━━━━\u001b[0m \u001b[32m53.9/53.9 KB\u001b[0m \u001b[31m4.5 MB/s\u001b[0m eta \u001b[36m0:00:00\u001b[0m\n",
            "\u001b[?25h  Downloading segmentation_models_pytorch-0.1.0-py3-none-any.whl (42 kB)\n",
            "\u001b[2K     \u001b[90m━━━━━━━━━━━━━━━━━━━━━━━━━━━━━━━━━━━━━━━━\u001b[0m \u001b[32m42.6/42.6 KB\u001b[0m \u001b[31m5.2 MB/s\u001b[0m eta \u001b[36m0:00:00\u001b[0m\n",
            "\u001b[?25hCollecting efficientnet-pytorch>=0.5.1\n",
            "  Downloading efficientnet_pytorch-0.7.1.tar.gz (21 kB)\n",
            "  Preparing metadata (setup.py) ... \u001b[?25ldone\n",
            "\u001b[?25hCollecting segmentation_models_pytorch\n",
            "  Downloading segmentation_models_pytorch-0.0.3-py3-none-any.whl (27 kB)\n",
            "  Downloading segmentation_models_pytorch-0.0.2.tar.gz (16 kB)\n",
            "  Preparing metadata (setup.py) ... \u001b[?25ldone\n",
            "\u001b[?25hUsing legacy 'setup.py install' for segmentation_models_pytorch, since package 'wheel' is not installed.\n",
            "\u001b[33mWARNING: Ignoring invalid distribution -inja2 (/Users/dmovchinnikov/.pyenv/versions/3.7.13/lib/python3.7/site-packages)\u001b[0m\u001b[33m\n",
            "\u001b[0mInstalling collected packages: segmentation_models_pytorch\n",
            "  Running setup.py install for segmentation_models_pytorch ... \u001b[?25ldone\n",
            "\u001b[?25h\u001b[33mWARNING: Ignoring invalid distribution -inja2 (/Users/dmovchinnikov/.pyenv/versions/3.7.13/lib/python3.7/site-packages)\u001b[0m\u001b[33m\n",
            "\u001b[0mSuccessfully installed segmentation_models_pytorch-0.0.2\n",
            "\u001b[33mWARNING: Ignoring invalid distribution -inja2 (/Users/dmovchinnikov/.pyenv/versions/3.7.13/lib/python3.7/site-packages)\u001b[0m\u001b[33m\n",
            "\u001b[0m\u001b[33mWARNING: Ignoring invalid distribution -inja2 (/Users/dmovchinnikov/.pyenv/versions/3.7.13/lib/python3.7/site-packages)\u001b[0m\u001b[33m\n",
            "\u001b[0m\u001b[33mWARNING: Ignoring invalid distribution -inja2 (/Users/dmovchinnikov/.pyenv/versions/3.7.13/lib/python3.7/site-packages)\u001b[0m\u001b[33m\n",
            "\u001b[0m\u001b[33mWARNING: You are using pip version 22.0.4; however, version 24.0 is available.\n",
            "You should consider upgrading via the '/Users/dmovchinnikov/.pyenv/versions/3.7.13/bin/python3.7 -m pip install --upgrade pip' command.\u001b[0m\u001b[33m\n",
            "\u001b[0m"
          ]
        }
      ],
      "source": [
        "# библиотеки\n",
        "!pip install segmentation_models_pytorch"
      ]
    },
    {
      "cell_type": "code",
      "execution_count": 8,
      "metadata": {
        "colab": {
          "base_uri": "https://localhost:8080/"
        },
        "id": "3pSsDlle1siN",
        "outputId": "4859235e-8a28-4808-9e17-7874e59ec731"
      },
      "outputs": [
        {
          "name": "stdout",
          "output_type": "stream",
          "text": [
            "\u001b[33mWARNING: Ignoring invalid distribution -inja2 (/Users/dmovchinnikov/.pyenv/versions/3.7.13/lib/python3.7/site-packages)\u001b[0m\u001b[33m\n",
            "\u001b[0m\u001b[33mWARNING: Ignoring invalid distribution -inja2 (/Users/dmovchinnikov/.pyenv/versions/3.7.13/lib/python3.7/site-packages)\u001b[0m\u001b[33m\n",
            "\u001b[0mRequirement already satisfied: torchmetrics in /Users/dmovchinnikov/.pyenv/versions/3.7.13/lib/python3.7/site-packages (0.11.4)\n",
            "Requirement already satisfied: numpy>=1.17.2 in /Users/dmovchinnikov/.pyenv/versions/3.7.13/lib/python3.7/site-packages (from torchmetrics) (1.21.6)\n",
            "Requirement already satisfied: typing-extensions in /Users/dmovchinnikov/.pyenv/versions/3.7.13/lib/python3.7/site-packages (from torchmetrics) (4.7.1)\n",
            "Requirement already satisfied: torch>=1.8.1 in /Users/dmovchinnikov/.pyenv/versions/3.7.13/lib/python3.7/site-packages (from torchmetrics) (1.13.1)\n",
            "Requirement already satisfied: packaging in /Users/dmovchinnikov/.pyenv/versions/3.7.13/lib/python3.7/site-packages (from torchmetrics) (24.0)\n",
            "\u001b[33mWARNING: Ignoring invalid distribution -inja2 (/Users/dmovchinnikov/.pyenv/versions/3.7.13/lib/python3.7/site-packages)\u001b[0m\u001b[33m\n",
            "\u001b[0m\u001b[33mWARNING: Ignoring invalid distribution -inja2 (/Users/dmovchinnikov/.pyenv/versions/3.7.13/lib/python3.7/site-packages)\u001b[0m\u001b[33m\n",
            "\u001b[0m\u001b[33mWARNING: Ignoring invalid distribution -inja2 (/Users/dmovchinnikov/.pyenv/versions/3.7.13/lib/python3.7/site-packages)\u001b[0m\u001b[33m\n",
            "\u001b[0m\u001b[33mWARNING: Ignoring invalid distribution -inja2 (/Users/dmovchinnikov/.pyenv/versions/3.7.13/lib/python3.7/site-packages)\u001b[0m\u001b[33m\n",
            "\u001b[0m\u001b[33mWARNING: You are using pip version 22.0.4; however, version 24.0 is available.\n",
            "You should consider upgrading via the '/Users/dmovchinnikov/.pyenv/versions/3.7.13/bin/python3.7 -m pip install --upgrade pip' command.\u001b[0m\u001b[33m\n",
            "\u001b[0m\u001b[33mWARNING: Ignoring invalid distribution -inja2 (/Users/dmovchinnikov/.pyenv/versions/3.7.13/lib/python3.7/site-packages)\u001b[0m\u001b[33m\n",
            "\u001b[0m\u001b[33mWARNING: Ignoring invalid distribution -inja2 (/Users/dmovchinnikov/.pyenv/versions/3.7.13/lib/python3.7/site-packages)\u001b[0m\u001b[33m\n",
            "\u001b[0m\u001b[31mERROR: Could not find a version that satisfies the requirement torchvision (from versions: 0.1.6, 0.1.7, 0.1.8, 0.1.9, 0.2.0, 0.2.1, 0.2.2, 0.2.2.post2, 0.2.2.post3)\u001b[0m\u001b[31m\n",
            "\u001b[0m\u001b[31mERROR: No matching distribution found for torchvision\u001b[0m\u001b[31m\n",
            "\u001b[0m\u001b[33mWARNING: Ignoring invalid distribution -inja2 (/Users/dmovchinnikov/.pyenv/versions/3.7.13/lib/python3.7/site-packages)\u001b[0m\u001b[33m\n",
            "\u001b[0m\u001b[33mWARNING: Ignoring invalid distribution -inja2 (/Users/dmovchinnikov/.pyenv/versions/3.7.13/lib/python3.7/site-packages)\u001b[0m\u001b[33m\n",
            "\u001b[0m\u001b[33mWARNING: Ignoring invalid distribution -inja2 (/Users/dmovchinnikov/.pyenv/versions/3.7.13/lib/python3.7/site-packages)\u001b[0m\u001b[33m\n",
            "\u001b[0m\u001b[33mWARNING: You are using pip version 22.0.4; however, version 24.0 is available.\n",
            "You should consider upgrading via the '/Users/dmovchinnikov/.pyenv/versions/3.7.13/bin/python3.7 -m pip install --upgrade pip' command.\u001b[0m\u001b[33m\n",
            "\u001b[0m"
          ]
        }
      ],
      "source": [
        "# библиотеки\n",
        "!pip install torchmetrics\n",
        "!pip install torchvision"
      ]
    },
    {
      "cell_type": "code",
      "execution_count": 1,
      "metadata": {
        "id": "YrdhI-G31EAY"
      },
      "outputs": [
        {
          "name": "stderr",
          "output_type": "stream",
          "text": [
            "/Users/dmovchinnikov/.pyenv/versions/3.9.1/lib/python3.9/site-packages/tqdm/auto.py:21: TqdmWarning: IProgress not found. Please update jupyter and ipywidgets. See https://ipywidgets.readthedocs.io/en/stable/user_install.html\n",
            "  from .autonotebook import tqdm as notebook_tqdm\n"
          ]
        }
      ],
      "source": [
        "# Важные импорты библиотек\n",
        "import torch\n",
        "import torch.nn as nn\n",
        "import torch.optim as optim\n",
        "from torch.utils.data import DataLoader, Dataset\n",
        "from torchvision import transforms\n",
        "from PIL import Image\n",
        "import os\n",
        "import numpy as np\n",
        "import segmentation_models_pytorch as smp"
      ]
    },
    {
      "cell_type": "code",
      "execution_count": 44,
      "metadata": {
        "colab": {
          "base_uri": "https://localhost:8080/"
        },
        "id": "_5H3YkNF9_Ae",
        "outputId": "8b2d8130-2de6-4ada-d773-f182e4e47d4e"
      },
      "outputs": [
        {
          "name": "stdout",
          "output_type": "stream",
          "text": [
            "cpu\n"
          ]
        }
      ],
      "source": [
        "# Делал на процессоре мака\n",
        "device = torch.device(\"cuda\" if torch.cuda.is_available() else \"cpu\")\n",
        "print(device)"
      ]
    },
    {
      "cell_type": "code",
      "execution_count": 180,
      "metadata": {
        "id": "EH4qJc6i1Mgb"
      },
      "outputs": [],
      "source": [
        "# Страшный датасет\n",
        "# Нужно вычитать фото, преобразовать маски в градации серого, чтобы осталось 2.\n",
        "# ограничение в 200, чтобы заняло не много времени на процессоре\n",
        "MAX_SIZE = 200\n",
        "\n",
        "class GrossDataset(Dataset):\n",
        "    def __init__(self, image_dir, label_dir, image_size=(128, 128)):\n",
        "        self.image_dir = image_dir\n",
        "        self.label_dir = label_dir\n",
        "        self.image_size = image_size\n",
        "\n",
        "        self.image_files = sorted([f for f in os.listdir(image_dir) if f.endswith('.jpg')])[:MAX_SIZE]\n",
        "        self.label_files = sorted([f for f in os.listdir(label_dir) if f.endswith('.jpg')])[:MAX_SIZE]\n",
        "\n",
        "        self.transform = transforms.Compose([\n",
        "            transforms.Lambda(lambda x: x.crop((150, 90, 406, 450))),\n",
        "            transforms.Resize(image_size),\n",
        "            transforms.ToTensor(),\n",
        "        ])\n",
        "\n",
        "    def __len__(self):\n",
        "        return len(self.image_files)\n",
        "\n",
        "    def __getitem__(self, idx):\n",
        "        image_path = os.path.join(self.image_dir, self.image_files[idx])\n",
        "        mask_path = os.path.join(self.label_dir, self.label_files[idx])\n",
        "\n",
        "        image = Image.open(image_path).convert(\"RGB\")\n",
        "        mask = Image.open(mask_path).convert(\"L\")\n",
        "\n",
        "        if self.transform:\n",
        "            image = self.transform(image)\n",
        "        if self.transform:\n",
        "            mask = self.transform(mask)\n",
        "        else:\n",
        "            mask = transforms.ToTensor()(mask)\n",
        "\n",
        "        mask = (mask > 0).float()\n",
        "\n",
        "        return image, mask"
      ]
    },
    {
      "cell_type": "code",
      "execution_count": 103,
      "metadata": {},
      "outputs": [
        {
          "name": "stdout",
          "output_type": "stream",
          "text": [
            "\u001b[34mimages\u001b[m\u001b[m             kavsir_bboxes.json \u001b[34mmasks\u001b[m\u001b[m\n"
          ]
        }
      ],
      "source": [
        "!ls /Users/dmovchinnikov/.cache/kagglehub/datasets/abdallahwagih/kvasir-dataset-for-classification-and-segmentation/versions/1/kvasir-seg/Kvasir-SEG"
      ]
    },
    {
      "cell_type": "code",
      "execution_count": 181,
      "metadata": {
        "id": "nKBkao5Y23FM"
      },
      "outputs": [],
      "source": [
        "# Собираем датасет\n",
        "IMAGE_SIZE = (128, 128)\n",
        "\n",
        "full_dataset = GrossDataset(\n",
        "    image_dir=\"/Users/dmovchinnikov/.cache/kagglehub/datasets/abdallahwagih/kvasir-dataset-for-classification-and-segmentation/versions/1/kvasir-seg/Kvasir-SEG/images\",\n",
        "    label_dir=\"/Users/dmovchinnikov/.cache/kagglehub/datasets/abdallahwagih/kvasir-dataset-for-classification-and-segmentation/versions/1/kvasir-seg/Kvasir-SEG/masks\",\n",
        "    image_size=IMAGE_SIZE\n",
        ")"
      ]
    },
    {
      "cell_type": "code",
      "execution_count": 182,
      "metadata": {
        "id": "utUjVuCG24Ms"
      },
      "outputs": [],
      "source": [
        "# Эксперементы с делением датасета\n",
        "from sklearn.model_selection import train_test_split\n",
        "indices = list(range(len(full_dataset)))\n",
        "train_indices, val_indices = train_test_split(\n",
        "    indices,\n",
        "    test_size=0.2,\n",
        "    random_state=42,\n",
        "    shuffle=True\n",
        ")\n",
        "\n",
        "from torch.utils.data import Subset\n",
        "\n",
        "train_dataset = Subset(full_dataset, train_indices)\n",
        "val_dataset = Subset(full_dataset, val_indices)\n",
        "\n",
        "BATCH_SIZE = 32\n",
        "train_loader_normal = DataLoader(train_dataset, batch_size=BATCH_SIZE, shuffle=True, num_workers=2)\n",
        "test_loader_normal = DataLoader(val_dataset, batch_size=BATCH_SIZE, shuffle=False, num_workers=2)"
      ]
    },
    {
      "cell_type": "code",
      "execution_count": 106,
      "metadata": {},
      "outputs": [],
      "source": [
        "# Нужно разделить т.к за нас не делили в исходнике\n",
        "from sklearn.model_selection import train_test_split\n",
        "train_dataset, valid_dataset = train_test_split(full_dataset, test_size=0.2, random_state=42)"
      ]
    },
    {
      "cell_type": "code",
      "execution_count": 107,
      "metadata": {},
      "outputs": [],
      "source": [
        "# Поделили\n",
        "train_loader = DataLoader(train_dataset, batch_size=8, shuffle=True, num_workers=2)\n",
        "val_loader = DataLoader(valid_dataset, batch_size=8, shuffle=False, num_workers=2)\n"
      ]
    },
    {
      "cell_type": "code",
      "execution_count": 108,
      "metadata": {},
      "outputs": [
        {
          "data": {
            "image/png": "[encoded data removed]",
            "text/plain": [
              "<Figure size 1000x500 with 2 Axes>"
            ]
          },
          "metadata": {},
          "output_type": "display_data"
        },
        {
          "data": {
            "image/png": "[encoded data removed]",
            "text/plain": [
              "<Figure size 1000x500 with 2 Axes>"
            ]
          },
          "metadata": {},
          "output_type": "display_data"
        },
        {
          "data": {
            "image/png": "[encoded data removed]",
            "text/plain": [
              "<Figure size 1000x500 with 2 Axes>"
            ]
          },
          "metadata": {},
          "output_type": "display_data"
        }
      ],
      "source": [
        "# страшные картинки :C Можно скрыть слева\n",
        "import torch\n",
        "import matplotlib.pyplot as plt\n",
        "import numpy as np\n",
        "\n",
        "def unnormalize(img, mean=(0.485, 0.456, 0.406), std=(0.229, 0.224, 0.225)):\n",
        "    mean = torch.tensor(mean).view(-1, 1, 1).to(img.device)\n",
        "    std = torch.tensor(std).view(-1, 1, 1).to(img.device)\n",
        "    img = img * std + mean\n",
        "    return img.clamp(0, 1)\n",
        "\n",
        "def visualize_dataset(dataset, num_samples=3):\n",
        "    indices = np.random.choice(len(dataset), num_samples, replace=False)\n",
        "\n",
        "    for idx in indices:\n",
        "        image, mask = dataset[idx]\n",
        "        image_unnorm = unnormalize(image)\n",
        "        image_np = image_unnorm.permute(1, 2, 0).cpu().numpy()\n",
        "        mask_np = mask.squeeze().cpu().numpy()\n",
        "\n",
        "        plt.figure(figsize=(10, 5))\n",
        "        plt.subplot(1, 2, 1)\n",
        "        plt.imshow(image_np)\n",
        "        plt.title(\"Image\")\n",
        "        plt.axis('off')\n",
        "\n",
        "        plt.subplot(1, 2, 2)\n",
        "        plt.imshow(mask_np, cmap='gray')\n",
        "        plt.title(\"Mask\")\n",
        "        plt.axis('off')\n",
        "\n",
        "        plt.tight_layout()\n",
        "        plt.show()\n",
        "\n",
        "visualize_dataset(val_dataset, num_samples=3)"
      ]
    },
    {
      "cell_type": "markdown",
      "metadata": {},
      "source": [
        "---"
      ]
    },
    {
      "cell_type": "markdown",
      "metadata": {},
      "source": [
        "# 2. Обучение бейзлайна"
      ]
    },
    {
      "cell_type": "code",
      "execution_count": 123,
      "metadata": {},
      "outputs": [],
      "source": [
        "# Сама модель\n",
        "model = smp.Unet(\n",
        "    encoder_name=\"resnet34\",\n",
        "    encoder_weights=\"imagenet\",\n",
        "    in_channels=3,\n",
        "    classes=1\n",
        ")\n",
        "\n",
        "model = model.to(device)"
      ]
    },
    {
      "cell_type": "code",
      "execution_count": 146,
      "metadata": {
        "id": "5HizXcnp4du9"
      },
      "outputs": [],
      "source": [
        "# Обучение плюс метрики\n",
        "EPOCHS = 3\n",
        "def compute_iou(preds, masks):\n",
        "    intersection = (preds * masks).sum(dim=[1,2,3])\n",
        "    union = preds.sum(dim=[1,2,3]) + masks.sum(dim=[1,2,3]) - intersection + 1e-6\n",
        "    iou = (intersection + 1e-6) / union\n",
        "    return iou.mean().item()\n",
        "\n",
        "def pixel_accuracy(preds, masks):\n",
        "    correct = (preds == masks).sum()\n",
        "    total = torch.numel(preds)\n",
        "    return (correct.float() / total).item()\n",
        "\n",
        "def learn_model(model, train, test, crit_f, opt_f, epoch_num=3):\n",
        "  for epoch in range(epoch_num):\n",
        "    model.train()\n",
        "    for images, targets in train:\n",
        "        images, targets = images.to(device), targets.to(device)\n",
        "        if targets.dim() == 3:\n",
        "            targets = targets.unsqueeze(1)\n",
        "\n",
        "        opt_f.zero_grad()\n",
        "        outputs = model(images)\n",
        "        loss = crit_f(outputs, targets)\n",
        "        loss.backward()\n",
        "        opt_f.step()\n",
        "\n",
        "    print(f\"Эпоха {epoch}\")\n",
        "\n",
        "    model.eval()\n",
        "    all_val_preds = []\n",
        "    all_val_masks = []\n",
        "    val_loss = 0.0\n",
        "    loss_val_f = smp.losses.DiceLoss(mode='binary')\n",
        "    with torch.no_grad():\n",
        "        for images, masks in test:\n",
        "            images = images.to(device, non_blocking=True)\n",
        "            masks = masks.to(device, non_blocking=True)\n",
        "            if masks.dim() == 3:\n",
        "                masks = masks.unsqueeze(1)\n",
        "            with torch.amp.autocast('cuda'):\n",
        "                outputs = model(images)\n",
        "                loss = loss_val_f(outputs, masks)\n",
        "            val_loss += loss.item() * images.size(0)\n",
        "            with torch.amp.autocast('cuda'):\n",
        "                preds = torch.sigmoid(outputs)\n",
        "            preds = (preds > 0.5).float()\n",
        "            all_val_preds.append(preds.cpu())\n",
        "            all_val_masks.append(masks.cpu())\n",
        "\n",
        "    epoch_val_loss = val_loss / len(test.dataset)\n",
        "    all_val_preds = torch.cat(all_val_preds, dim=0)\n",
        "    all_val_masks = torch.cat(all_val_masks, dim=0)\n",
        "    val_acc = pixel_accuracy(all_val_preds, all_val_masks)\n",
        "    val_iou = compute_iou(all_val_preds, all_val_masks)\n",
        "\n",
        "    print(f\"val loss: {epoch_val_loss:.3f}\")\n",
        "    print(f\"val_accuracy: {val_acc:.3f}\")\n",
        "    print(f\"val_iou: {val_iou:.3f}\")"
      ]
    },
    {
      "cell_type": "code",
      "execution_count": 134,
      "metadata": {
        "id": "gYU7AWIw49Rw"
      },
      "outputs": [],
      "source": [
        "# Настраиваем для изменения весов модели\n",
        "LEARNING_RATE = 0.001\n",
        "\n",
        "criterion_unet = nn.CrossEntropyLoss()\n",
        "optimizer_unet = optim.Adam(model.parameters(), lr=LEARNING_RATE)"
      ]
    },
    {
      "cell_type": "code",
      "execution_count": 135,
      "metadata": {
        "colab": {
          "base_uri": "https://localhost:8080/",
          "height": 384
        },
        "id": "lVTIVetX5C1w",
        "outputId": "d28b9aa9-dc14-4c13-f817-8e7ddc27a0f5"
      },
      "outputs": [
        {
          "name": "stdout",
          "output_type": "stream",
          "text": [
            "Эпоха 0\n",
            "val loss: 0.725\n",
            "val_accuracy: 0.672\n",
            "val_iou: 0.088\n",
            "Эпоха 1\n",
            "val loss: 0.725\n",
            "val_accuracy: 0.672\n",
            "val_iou: 0.089\n",
            "Эпоха 2\n",
            "val loss: 0.726\n",
            "val_accuracy: 0.669\n",
            "val_iou: 0.088\n"
          ]
        }
      ],
      "source": [
        "# Обучаем бейзлайн\n",
        "learn_model(model,\n",
        "            train_loader,\n",
        "            val_loader,\n",
        "            criterion_unet, optimizer_unet)"
      ]
    },
    {
      "cell_type": "code",
      "execution_count": 141,
      "metadata": {},
      "outputs": [],
      "source": [
        "# Модель с mit_b0\n",
        "mode_mit = smp.Unet(\n",
        "    encoder_name=\"mit_b0\",\n",
        "    encoder_weights=\"imagenet\",\n",
        "    in_channels=3,\n",
        "    classes=1\n",
        ").to(device)"
      ]
    },
    {
      "cell_type": "code",
      "execution_count": 142,
      "metadata": {},
      "outputs": [],
      "source": [
        "# изменятели параметров к ней\n",
        "criterion_mit = nn.CrossEntropyLoss()\n",
        "optimizer_mit = optim.Adam(mode_mit.parameters(), lr=LEARNING_RATE)"
      ]
    },
    {
      "cell_type": "code",
      "execution_count": null,
      "metadata": {},
      "outputs": [
        {
          "name": "stdout",
          "output_type": "stream",
          "text": [
            "Эпоха 0\n"
          ]
        },
        {
          "name": "stderr",
          "output_type": "stream",
          "text": [
            "/Users/dmovchinnikov/.pyenv/versions/3.9.1/lib/python3.9/site-packages/torch/amp/autocast_mode.py:266: UserWarning: User provided device_type of 'cuda', but CUDA is not available. Disabling\n",
            "  warnings.warn(\n"
          ]
        },
        {
          "name": "stdout",
          "output_type": "stream",
          "text": [
            "val loss: 0.653\n",
            "val_accuracy: 0.476\n",
            "val_iou: 0.207\n",
            "Эпоха 1\n",
            "val loss: 0.652\n",
            "val_accuracy: 0.473\n",
            "val_iou: 0.207\n",
            "Эпоха 2\n",
            "val loss: 0.650\n",
            "val_accuracy: 0.467\n",
            "val_iou: 0.209\n"
          ]
        }
      ],
      "source": [
        "# обучаем бейзлайн\n",
        "learn_model(mode_mit,\n",
        "            train_loader,\n",
        "            val_loader,\n",
        "            criterion_mit, optimizer_mit)"
      ]
    },
    {
      "cell_type": "markdown",
      "metadata": {},
      "source": [
        "Получили начальные бейзлайн"
      ]
    },
    {
      "cell_type": "markdown",
      "metadata": {},
      "source": [
        "---"
      ]
    },
    {
      "cell_type": "markdown",
      "metadata": {},
      "source": [
        "# 3. Улучшение бейзлайна "
      ]
    },
    {
      "cell_type": "markdown",
      "metadata": {},
      "source": [
        "Улучшаем увеличиванием эпох и уменьшением learning rate"
      ]
    },
    {
      "cell_type": "code",
      "execution_count": 147,
      "metadata": {},
      "outputs": [
        {
          "name": "stdout",
          "output_type": "stream",
          "text": [
            "Эпоха 0\n"
          ]
        },
        {
          "name": "stderr",
          "output_type": "stream",
          "text": [
            "/Users/dmovchinnikov/.pyenv/versions/3.9.1/lib/python3.9/site-packages/torch/amp/autocast_mode.py:266: UserWarning: User provided device_type of 'cuda', but CUDA is not available. Disabling\n",
            "  warnings.warn(\n"
          ]
        },
        {
          "name": "stdout",
          "output_type": "stream",
          "text": [
            "val loss: 0.616\n",
            "val_accuracy: 0.323\n",
            "val_iou: 0.243\n",
            "Эпоха 1\n",
            "val loss: 0.620\n",
            "val_accuracy: 0.315\n",
            "val_iou: 0.238\n",
            "Эпоха 2\n",
            "val loss: 0.616\n",
            "val_accuracy: 0.315\n",
            "val_iou: 0.237\n",
            "Эпоха 3\n",
            "val loss: 0.615\n",
            "val_accuracy: 0.310\n",
            "val_iou: 0.239\n",
            "Эпоха 4\n",
            "val loss: 0.614\n",
            "val_accuracy: 0.315\n",
            "val_iou: 0.240\n"
          ]
        }
      ],
      "source": [
        "model_imagenet_long = smp.Unet(\n",
        "    encoder_name=\"resnet34\",\n",
        "    encoder_weights=\"imagenet\",\n",
        "    in_channels=3,\n",
        "    classes=1\n",
        ")\n",
        "\n",
        "model_imagenet_long = model_imagenet_long.to(device)\n",
        "\n",
        "LEARNING_RATE = 0.0001\n",
        "\n",
        "criterion_unet_long = nn.CrossEntropyLoss()\n",
        "optimizer_unet_long = optim.Adam(model_imagenet_long.parameters(), lr=LEARNING_RATE)\n",
        "learn_model(model_imagenet_long,\n",
        "            train_loader,\n",
        "            val_loader,\n",
        "            criterion_unet_long, optimizer_unet_long, epoch_num=5)"
      ]
    },
    {
      "cell_type": "code",
      "execution_count": 149,
      "metadata": {},
      "outputs": [
        {
          "name": "stdout",
          "output_type": "stream",
          "text": [
            "Эпоха 0\n"
          ]
        },
        {
          "name": "stderr",
          "output_type": "stream",
          "text": [
            "/Users/dmovchinnikov/.pyenv/versions/3.9.1/lib/python3.9/site-packages/torch/amp/autocast_mode.py:266: UserWarning: User provided device_type of 'cuda', but CUDA is not available. Disabling\n",
            "  warnings.warn(\n"
          ]
        },
        {
          "name": "stdout",
          "output_type": "stream",
          "text": [
            "val loss: 0.650\n",
            "val_accuracy: 0.469\n",
            "val_iou: 0.209\n",
            "Эпоха 1\n",
            "val loss: 0.651\n",
            "val_accuracy: 0.469\n",
            "val_iou: 0.207\n",
            "Эпоха 2\n",
            "val loss: 0.651\n",
            "val_accuracy: 0.469\n",
            "val_iou: 0.207\n",
            "Эпоха 3\n",
            "val loss: 0.650\n",
            "val_accuracy: 0.468\n",
            "val_iou: 0.210\n",
            "Эпоха 4\n",
            "val loss: 0.650\n",
            "val_accuracy: 0.467\n",
            "val_iou: 0.209\n"
          ]
        }
      ],
      "source": [
        "mode_mit_long = smp.Unet(\n",
        "    encoder_name=\"mit_b0\",\n",
        "    encoder_weights=\"imagenet\",\n",
        "    in_channels=3,\n",
        "    classes=1\n",
        ").to(device)\n",
        "\n",
        "criterion_mit_long = nn.CrossEntropyLoss()\n",
        "optimizer_mit_long = optim.Adam(mode_mit_long.parameters(), lr=LEARNING_RATE)\n",
        "\n",
        "learn_model(mode_mit,\n",
        "            train_loader,\n",
        "            val_loader,\n",
        "            criterion_mit_long, optimizer_mit_long, epoch_num=5)"
      ]
    },
    {
      "cell_type": "markdown",
      "metadata": {},
      "source": [
        "---"
      ]
    },
    {
      "cell_type": "code",
      "execution_count": 153,
      "metadata": {},
      "outputs": [
        {
          "name": "stdout",
          "output_type": "stream",
          "text": [
            "Эпоха 0\n"
          ]
        },
        {
          "name": "stderr",
          "output_type": "stream",
          "text": [
            "/Users/dmovchinnikov/.pyenv/versions/3.9.1/lib/python3.9/site-packages/torch/amp/autocast_mode.py:266: UserWarning: User provided device_type of 'cuda', but CUDA is not available. Disabling\n",
            "  warnings.warn(\n"
          ]
        },
        {
          "name": "stdout",
          "output_type": "stream",
          "text": [
            "val loss: 0.532\n",
            "val_accuracy: 0.509\n",
            "val_iou: 0.300\n",
            "Эпоха 1\n",
            "val loss: 0.538\n",
            "val_accuracy: 0.409\n",
            "val_iou: 0.299\n",
            "Эпоха 2\n",
            "val loss: 0.528\n",
            "val_accuracy: 0.457\n",
            "val_iou: 0.312\n"
          ]
        }
      ],
      "source": [
        "# Меняем функцию потерь\n",
        "\n",
        "model_imagenet_loss = smp.Unet(\n",
        "    encoder_name=\"resnet34\",\n",
        "    encoder_weights=\"imagenet\",\n",
        "    in_channels=3,\n",
        "    classes=1\n",
        ")\n",
        "\n",
        "model_imagenet_loss = model_imagenet_loss.to(device)\n",
        "\n",
        "LEARNING_RATE = 0.001\n",
        "\n",
        "criterion_unet_loss = smp.losses.DiceLoss(mode='binary')\n",
        "optimizer_unet_loss = optim.Adam(model_imagenet_loss.parameters(), lr=LEARNING_RATE)\n",
        "\n",
        "learn_model(model_imagenet_loss,\n",
        "            train_loader,\n",
        "            val_loader,\n",
        "            criterion_unet_loss, optimizer_unet_loss)"
      ]
    },
    {
      "cell_type": "code",
      "execution_count": 154,
      "metadata": {},
      "outputs": [
        {
          "name": "stdout",
          "output_type": "stream",
          "text": [
            "Эпоха 0\n",
            "val loss: 0.561\n",
            "val_accuracy: 0.331\n",
            "val_iou: 0.278\n",
            "Эпоха 1\n",
            "val loss: 0.666\n",
            "val_accuracy: 0.757\n",
            "val_iou: 0.177\n",
            "Эпоха 2\n",
            "val loss: 0.514\n",
            "val_accuracy: 0.464\n",
            "val_iou: 0.324\n"
          ]
        }
      ],
      "source": [
        "# Аналогично меняем функцию потерь\n",
        "mode_mit_loss = smp.Unet(\n",
        "    encoder_name=\"mit_b0\",\n",
        "    encoder_weights=\"imagenet\",\n",
        "    in_channels=3,\n",
        "    classes=1\n",
        ").to(device)\n",
        "\n",
        "criterion_mit_loss = smp.losses.DiceLoss(mode='binary')\n",
        "optimizer_mit_loss = optim.Adam(mode_mit_loss.parameters(), lr=LEARNING_RATE)\n",
        "\n",
        "learn_model(mode_mit_loss,\n",
        "            train_loader,\n",
        "            val_loader,\n",
        "            criterion_mit_loss, optimizer_mit_loss)"
      ]
    },
    {
      "cell_type": "markdown",
      "metadata": {},
      "source": [
        "---"
      ]
    },
    {
      "cell_type": "code",
      "execution_count": 177,
      "metadata": {},
      "outputs": [],
      "source": [
        "# Крутим, вертим, изменяем данные\n",
        "MAX_SIZE = 200\n",
        "import random\n",
        "import torchvision.transforms.functional as TF\n",
        "class GrossDatasetRand(Dataset):\n",
        "    def __init__(self, image_dir, label_dir, image_size=(128, 128), isTrain=False):\n",
        "        self.image_dir = image_dir\n",
        "        self.label_dir = label_dir\n",
        "        self.image_size = image_size\n",
        "\n",
        "        self.image_files = sorted([f for f in os.listdir(image_dir) if f.endswith('.jpg')])[:MAX_SIZE]\n",
        "        self.label_files = sorted([f for f in os.listdir(label_dir) if f.endswith('.jpg')])[:MAX_SIZE]\n",
        "\n",
        "        self.transform = transforms.Compose([\n",
        "            transforms.Lambda(lambda x: x.crop((150, 90, 406, 450))),\n",
        "            transforms.Resize(image_size),\n",
        "            transforms.ToTensor(),\n",
        "        ])\n",
        "\n",
        "    def __len__(self):\n",
        "        return len(self.image_files)\n",
        "\n",
        "    def __getitem__(self, idx):\n",
        "        image_path = os.path.join(self.image_dir, self.image_files[idx])\n",
        "        mask_path = os.path.join(self.label_dir, self.label_files[idx])\n",
        "\n",
        "        image = Image.open(image_path).convert(\"RGB\")\n",
        "        mask = Image.open(mask_path).convert(\"L\")\n",
        "\n",
        "        if self.is_train:\n",
        "            if random.random() > 0.5:\n",
        "                image = TF.hflip(image)\n",
        "                mask = TF.hflip(mask)\n",
        "            \n",
        "            if random.random() > 0.5:\n",
        "                image = TF.vflip(image)\n",
        "                mask = TF.vflip(mask)\n",
        "            \n",
        "            angle = random.uniform(-10, 10)\n",
        "            image = TF.rotate(image, angle)\n",
        "            mask = TF.rotate(mask, angle)\n",
        "            \n",
        "            brightness = random.uniform(0.8, 1.2)\n",
        "            contrast = random.uniform(0.8, 1.2)\n",
        "            image = TF.adjust_brightness(image, brightness)\n",
        "            image = TF.adjust_contrast(image, contrast)\n",
        "\n",
        "        if self.transform:\n",
        "            image = self.transform(image)\n",
        "        if self.transform:\n",
        "            mask = self.transform(mask)\n",
        "        else:\n",
        "            mask = transforms.ToTensor()(mask)\n",
        "\n",
        "        mask = (mask > 0).float()\n",
        "\n",
        "        return image, mask"
      ]
    },
    {
      "cell_type": "code",
      "execution_count": 185,
      "metadata": {},
      "outputs": [],
      "source": [
        "# Новое разбиение датасета\n",
        "IMAGE_SIZE = (128, 128)\n",
        "\n",
        "full_dataset_rand = GrossDatasetRand(\n",
        "    image_dir=\"/Users/dmovchinnikov/.cache/kagglehub/datasets/abdallahwagih/kvasir-dataset-for-classification-and-segmentation/versions/1/kvasir-seg/Kvasir-SEG/images\",\n",
        "    label_dir=\"/Users/dmovchinnikov/.cache/kagglehub/datasets/abdallahwagih/kvasir-dataset-for-classification-and-segmentation/versions/1/kvasir-seg/Kvasir-SEG/masks\",\n",
        "    image_size=IMAGE_SIZE,\n",
        "    isTrain=True\n",
        ")\n",
        "\n",
        "from sklearn.model_selection import train_test_split\n",
        "\n",
        "from sklearn.model_selection import train_test_split\n",
        "train_dataset_rand, valid_dataset_rand = train_test_split(full_dataset, test_size=0.2, random_state=42)\n",
        "\n",
        "train_loader_rand = DataLoader(train_dataset_rand, batch_size=8, shuffle=True, num_workers=2)\n",
        "val_loader_rand = DataLoader(valid_dataset_rand, batch_size=8, shuffle=False, num_workers=2)"
      ]
    },
    {
      "cell_type": "code",
      "execution_count": 186,
      "metadata": {},
      "outputs": [
        {
          "name": "stdout",
          "output_type": "stream",
          "text": [
            "Эпоха 0\n"
          ]
        },
        {
          "name": "stderr",
          "output_type": "stream",
          "text": [
            "/Users/dmovchinnikov/.pyenv/versions/3.9.1/lib/python3.9/site-packages/torch/amp/autocast_mode.py:266: UserWarning: User provided device_type of 'cuda', but CUDA is not available. Disabling\n",
            "  warnings.warn(\n"
          ]
        },
        {
          "name": "stdout",
          "output_type": "stream",
          "text": [
            "val loss: 0.714\n",
            "val_accuracy: 0.632\n",
            "val_iou: 0.086\n",
            "Эпоха 1\n",
            "val loss: 0.724\n",
            "val_accuracy: 0.666\n",
            "val_iou: 0.076\n",
            "Эпоха 2\n",
            "val loss: 0.730\n",
            "val_accuracy: 0.667\n",
            "val_iou: 0.075\n"
          ]
        }
      ],
      "source": [
        "# Обучение на новом датасете\n",
        "model_imagenet_rand = smp.Unet(\n",
        "    encoder_name=\"resnet34\",\n",
        "    encoder_weights=\"imagenet\",\n",
        "    in_channels=3,\n",
        "    classes=1\n",
        ")\n",
        "\n",
        "model_imagenet_rand = model_imagenet_rand.to(device)\n",
        "\n",
        "LEARNING_RATE = 0.001\n",
        "\n",
        "criterion_unet_rand = nn.CrossEntropyLoss()\n",
        "opt_unet_rand = optim.Adam(model_imagenet_rand.parameters(), lr=LEARNING_RATE)\n",
        "\n",
        "learn_model(model_imagenet_rand,\n",
        "            train_loader_rand,\n",
        "            val_loader_rand,\n",
        "            criterion_unet_rand, opt_unet_rand)"
      ]
    },
    {
      "cell_type": "code",
      "execution_count": 187,
      "metadata": {},
      "outputs": [
        {
          "name": "stdout",
          "output_type": "stream",
          "text": [
            "Эпоха 0\n"
          ]
        },
        {
          "name": "stderr",
          "output_type": "stream",
          "text": [
            "/Users/dmovchinnikov/.pyenv/versions/3.9.1/lib/python3.9/site-packages/torch/amp/autocast_mode.py:266: UserWarning: User provided device_type of 'cuda', but CUDA is not available. Disabling\n",
            "  warnings.warn(\n"
          ]
        },
        {
          "name": "stdout",
          "output_type": "stream",
          "text": [
            "val loss: 0.665\n",
            "val_accuracy: 0.532\n",
            "val_iou: 0.171\n",
            "Эпоха 1\n",
            "val loss: 0.665\n",
            "val_accuracy: 0.523\n",
            "val_iou: 0.176\n",
            "Эпоха 2\n",
            "val loss: 0.665\n",
            "val_accuracy: 0.524\n",
            "val_iou: 0.176\n"
          ]
        }
      ],
      "source": [
        "# Обучение на новом датасете\n",
        "\n",
        "mode_mit_rand = smp.Unet(\n",
        "    encoder_name=\"mit_b0\",\n",
        "    encoder_weights=\"imagenet\",\n",
        "    in_channels=3,\n",
        "    classes=1\n",
        ").to(device)\n",
        "\n",
        "criterion_mit_rand = nn.CrossEntropyLoss()\n",
        "optimizer_mit_rand = optim.Adam(mode_mit_rand.parameters(), lr=LEARNING_RATE)\n",
        "\n",
        "learn_model(mode_mit_rand,\n",
        "            train_loader_rand,\n",
        "            val_loader_rand,\n",
        "            criterion_mit_rand, optimizer_mit_rand)"
      ]
    },
    {
      "cell_type": "markdown",
      "metadata": {},
      "source": [
        "Лучшими оказались с новым набором данных(измененные)\n",
        "\n",
        "Думаю это из-за того, что объем выборки был не очень большим и заболевания могут очень сильно отличаться от стадии болезни."
      ]
    },
    {
      "cell_type": "markdown",
      "metadata": {},
      "source": [
        "---"
      ]
    },
    {
      "cell_type": "markdown",
      "metadata": {},
      "source": [
        "# 4. Собственная имплементация"
      ]
    },
    {
      "cell_type": "code",
      "execution_count": 189,
      "metadata": {},
      "outputs": [],
      "source": [
        "# Сверточная модель\n",
        "import torch\n",
        "import torch.nn as nn\n",
        "import torch.nn.functional as F\n",
        "\n",
        "class CustomUnt(nn.Module):\n",
        "    def __init__(self, num_classes=1, dropout_prob=0.2):\n",
        "        super(CustomUnt, self).__init__()\n",
        "        def conv_block(in_channels, out_channels, dropout_prob=0.2):\n",
        "            return nn.Sequential(\n",
        "                nn.Conv2d(in_channels, out_channels, kernel_size=3, padding=1),\n",
        "                nn.BatchNorm2d(out_channels),\n",
        "                nn.ReLU(inplace=True),\n",
        "                nn.Dropout(dropout_prob),\n",
        "                nn.Conv2d(out_channels, out_channels, kernel_size=3, padding=1),\n",
        "                nn.BatchNorm2d(out_channels),\n",
        "                nn.ReLU(inplace=True),\n",
        "                nn.Dropout(dropout_prob)\n",
        "            )\n",
        "\n",
        "        self.encoder1 = conv_block(3, 64, dropout_prob)\n",
        "        self.encoder2 = conv_block(64, 128, dropout_prob)\n",
        "        self.encoder3 = conv_block(128, 256, dropout_prob)\n",
        "        self.pool = nn.MaxPool2d(2, 2)\n",
        "\n",
        "        self.bottleneck = conv_block(256, 512, dropout_prob)\n",
        "\n",
        "        self.upconv3 = nn.ConvTranspose2d(512, 256, kernel_size=2, stride=2)\n",
        "        self.decoder3 = conv_block(512, 256, dropout_prob)\n",
        "\n",
        "        self.upconv2 = nn.ConvTranspose2d(256, 128, kernel_size=2, stride=2)\n",
        "        self.decoder2 = conv_block(256, 128, dropout_prob)\n",
        "\n",
        "        self.upconv1 = nn.ConvTranspose2d(128, 64, kernel_size=2, stride=2)\n",
        "        self.decoder1 = conv_block(128, 64, dropout_prob)\n",
        "\n",
        "        self.final_conv = nn.Conv2d(64, num_classes, kernel_size=1)\n",
        "\n",
        "    def forward(self, x):\n",
        "        e1 = self.encoder1(x)\n",
        "        e2 = self.encoder2(self.pool(e1))\n",
        "        e3 = self.encoder3(self.pool(e2))\n",
        "\n",
        "        b = self.bottleneck(self.pool(e3))\n",
        "\n",
        "        d3 = self.upconv3(b)\n",
        "        if d3.shape != e3.shape:\n",
        "            d3 = F.interpolate(d3, size=e3.shape[2:], mode='bilinear', align_corners=True)\n",
        "        d3 = torch.cat((d3, e3), dim=1)\n",
        "        d3 = self.decoder3(d3)\n",
        "\n",
        "        d2 = self.upconv2(d3)\n",
        "        if d2.shape != e2.shape:\n",
        "            d2 = F.interpolate(d2, size=e2.shape[2:], mode='bilinear', align_corners=True)\n",
        "        d2 = torch.cat((d2, e2), dim=1)\n",
        "        d2 = self.decoder2(d2)\n",
        "\n",
        "        d1 = self.upconv1(d2)\n",
        "        if d1.shape != e1.shape:\n",
        "            d1 = F.interpolate(d1, size=e1.shape[2:], mode='bilinear', align_corners=True)\n",
        "        d1 = torch.cat((d1, e1), dim=1)\n",
        "        d1 = self.decoder1(d1)\n",
        "\n",
        "        out = self.final_conv(d1)\n",
        "\n",
        "        return out\n",
        "\n",
        "device = torch.device(\"cuda\" if torch.cuda.is_available() else \"cpu\")\n",
        "model_custom = CustomUnt(num_classes=1, dropout_prob=0.2).to(device)"
      ]
    },
    {
      "cell_type": "code",
      "execution_count": 190,
      "metadata": {},
      "outputs": [
        {
          "name": "stdout",
          "output_type": "stream",
          "text": [
            "Эпоха 0\n"
          ]
        },
        {
          "name": "stderr",
          "output_type": "stream",
          "text": [
            "/Users/dmovchinnikov/.pyenv/versions/3.9.1/lib/python3.9/site-packages/torch/amp/autocast_mode.py:266: UserWarning: User provided device_type of 'cuda', but CUDA is not available. Disabling\n",
            "  warnings.warn(\n"
          ]
        },
        {
          "name": "stdout",
          "output_type": "stream",
          "text": [
            "val loss: 0.661\n",
            "val_accuracy: 0.737\n",
            "val_iou: 0.051\n",
            "Эпоха 1\n",
            "val loss: 0.655\n",
            "val_accuracy: 0.707\n",
            "val_iou: 0.185\n",
            "Эпоха 2\n",
            "val loss: 0.652\n",
            "val_accuracy: 0.675\n",
            "val_iou: 0.229\n"
          ]
        }
      ],
      "source": [
        "# Обучение сверточной модели\n",
        "LEARNING_RATE = 0.001\n",
        "\n",
        "criterion_unet_normal = nn.CrossEntropyLoss()\n",
        "opt_unet_normal = optim.Adam(model_custom.parameters(), lr=LEARNING_RATE)\n",
        "\n",
        "learn_model(model_custom,\n",
        "            train_loader,\n",
        "            val_loader,\n",
        "            criterion_unet_normal, opt_unet_normal)"
      ]
    },
    {
      "cell_type": "code",
      "execution_count": 191,
      "metadata": {},
      "outputs": [
        {
          "name": "stdout",
          "output_type": "stream",
          "text": [
            "Эпоха 0\n"
          ]
        },
        {
          "name": "stderr",
          "output_type": "stream",
          "text": [
            "/Users/dmovchinnikov/.pyenv/versions/3.9.1/lib/python3.9/site-packages/torch/amp/autocast_mode.py:266: UserWarning: User provided device_type of 'cuda', but CUDA is not available. Disabling\n",
            "  warnings.warn(\n"
          ]
        },
        {
          "name": "stdout",
          "output_type": "stream",
          "text": [
            "val loss: 0.654\n",
            "val_accuracy: 0.305\n",
            "val_iou: 0.260\n",
            "Эпоха 1\n",
            "val loss: 0.649\n",
            "val_accuracy: 0.329\n",
            "val_iou: 0.252\n",
            "Эпоха 2\n",
            "val loss: 0.649\n",
            "val_accuracy: 0.338\n",
            "val_iou: 0.244\n"
          ]
        }
      ],
      "source": [
        "# Улучшенная \n",
        "device = torch.device(\"cuda\" if torch.cuda.is_available() else \"cpu\")\n",
        "model_custom_extra = CustomUnt(num_classes=1, dropout_prob=0.2).to(device)\n",
        "\n",
        "criterion_unet_extra = nn.CrossEntropyLoss()\n",
        "opt_unet_extra = optim.Adam(model_custom_extra.parameters(), lr=LEARNING_RATE)\n",
        "\n",
        "learn_model(model_custom_extra,\n",
        "            train_loader_rand,\n",
        "            val_loader_rand,\n",
        "            criterion_unet_extra, opt_unet_extra)"
      ]
    },
    {
      "cell_type": "code",
      "execution_count": 217,
      "metadata": {},
      "outputs": [],
      "source": [
        "# Трансформенная модель\n",
        "import torch\n",
        "import torch.nn as nn\n",
        "import torch.nn.functional as F\n",
        "from einops import rearrange, repeat\n",
        "from torch import einsum\n",
        "\n",
        "class PatchEmbedding(nn.Module):\n",
        "    def __init__(self, patch_size=16, in_chans=3, embed_dim=384):\n",
        "        super().__init__()\n",
        "        self.patch_size = patch_size\n",
        "        self.proj = nn.Conv2d(in_chans, embed_dim, kernel_size=patch_size, stride=patch_size)\n",
        "\n",
        "    def forward(self, x):\n",
        "        x = self.proj(x)\n",
        "        x = rearrange(x, 'b e h w -> b (h w) e')\n",
        "        return x\n",
        "\n",
        "class Attention(nn.Module):\n",
        "    def __init__(self, dim, num_heads=6):\n",
        "        super().__init__()\n",
        "        self.num_heads = num_heads\n",
        "        self.scale = (dim // num_heads) ** -0.5\n",
        "        \n",
        "        self.to_qkv = nn.Linear(dim, dim * 3)\n",
        "        self.to_out = nn.Linear(dim, dim)\n",
        "\n",
        "    def forward(self, x):\n",
        "        qkv = self.to_qkv(x).chunk(3, dim=-1)\n",
        "        q, k, v = map(lambda t: rearrange(t, 'b n (h d) -> b h n d', h=self.num_heads), qkv)\n",
        "        \n",
        "        dots = einsum('b h i d, b h j d -> b h i j', q, k) * self.scale\n",
        "        attn = dots.softmax(dim=-1)\n",
        "        \n",
        "        out = einsum('b h i j, b h j d -> b h i d', attn, v)\n",
        "        out = rearrange(out, 'b h n d -> b n (h d)')\n",
        "        return self.to_out(out)\n",
        "\n",
        "class TransformerBlock(nn.Module):\n",
        "    def __init__(self, dim, num_heads=6, mlp_dim=1536):\n",
        "        super().__init__()\n",
        "        self.norm1 = nn.LayerNorm(dim)\n",
        "        self.attn = Attention(dim, num_heads)\n",
        "        self.norm2 = nn.LayerNorm(dim)\n",
        "        self.mlp = nn.Sequential(\n",
        "            nn.Linear(dim, mlp_dim),\n",
        "            nn.GELU(),\n",
        "            nn.Linear(mlp_dim, dim)\n",
        "        )\n",
        "\n",
        "    def forward(self, x):\n",
        "        x = x + self.attn(self.norm1(x))\n",
        "        x = x + self.mlp(self.norm2(x))\n",
        "        return x\n",
        "\n",
        "class SimpleSegmenter(nn.Module):\n",
        "    def __init__(self, n_classes=32, img_size=224, patch_size=16):\n",
        "        super().__init__()\n",
        "        self.img_size = img_size\n",
        "        self.patch_size = patch_size\n",
        "        self.embed_dim = 384\n",
        "        self.num_patches = (img_size // patch_size) ** 2\n",
        "        \n",
        "        self.patch_embed = PatchEmbedding(patch_size, 3, self.embed_dim)\n",
        "        self.pos_embed = nn.Parameter(torch.randn(1, self.num_patches, self.embed_dim))\n",
        "        \n",
        "        self.blocks = nn.Sequential(\n",
        "            *[TransformerBlock(self.embed_dim) for _ in range(4)]\n",
        "        )\n",
        "        \n",
        "        self.decoder = nn.Sequential(\n",
        "            nn.LayerNorm(self.embed_dim),\n",
        "            nn.Linear(self.embed_dim, n_classes)\n",
        "        )\n",
        "        \n",
        "    def forward(self, x):\n",
        "        B, C, H, W = x.shape\n",
        "        \n",
        "        x = self.patch_embed(x)\n",
        "        if x.shape[1] != self.pos_embed.shape[1]:\n",
        "            H_p, W_p = H // self.patch_size, W // self.patch_size\n",
        "            pos_embed_resized = F.interpolate(\n",
        "                self.pos_embed.reshape(1, int(self.num_patches ** 0.5), int(self.num_patches ** 0.5), -1).permute(0, 3, 1, 2),\n",
        "                size=(H_p, W_p),\n",
        "                mode='bilinear',\n",
        "                align_corners=False\n",
        "            ).permute(0, 2, 3, 1).reshape(1, -1, self.embed_dim)\n",
        "            x = x + pos_embed_resized\n",
        "        else:\n",
        "            x = x + self.pos_embed\n",
        "        \n",
        "        x = self.blocks(x)\n",
        "        \n",
        "        x = rearrange(x, 'b (h w) c -> b c h w', h=H//self.patch_size, w=W//self.patch_size)\n",
        "        x = F.interpolate(x, size=(H, W), mode='bilinear', align_corners=False)\n",
        "        \n",
        "        x = x.permute(0, 2, 3, 1)\n",
        "        x = self.decoder(x)\n",
        "        return x.permute(0, 3, 1, 2)"
      ]
    },
    {
      "cell_type": "code",
      "execution_count": 218,
      "metadata": {},
      "outputs": [],
      "source": [
        "# Делаем больше картинки\n",
        "MAX_SIZE = 200\n",
        "import random\n",
        "import torchvision.transforms.functional as TF\n",
        "class GrossDatasetBig(Dataset):\n",
        "    def __init__(self, image_dir, label_dir, image_size=(128, 128), isTrain=False):\n",
        "        self.image_dir = image_dir\n",
        "        self.label_dir = label_dir\n",
        "        self.image_size = image_size\n",
        "\n",
        "        self.image_files = sorted([f for f in os.listdir(image_dir) if f.endswith('.jpg')])[:MAX_SIZE]\n",
        "        self.label_files = sorted([f for f in os.listdir(label_dir) if f.endswith('.jpg')])[:MAX_SIZE]\n",
        "\n",
        "        self.transform = transforms.Compose([\n",
        "            transforms.Lambda(lambda x: x.crop((150, 90, 406, 450))),\n",
        "            transforms.Resize(image_size),\n",
        "            transforms.ToTensor(),\n",
        "        ])\n",
        "\n",
        "    def __len__(self):\n",
        "        return len(self.image_files)\n",
        "\n",
        "    def __getitem__(self, idx):\n",
        "        image_path = os.path.join(self.image_dir, self.image_files[idx])\n",
        "        mask_path = os.path.join(self.label_dir, self.label_files[idx])\n",
        "\n",
        "        image = Image.open(image_path).convert(\"RGB\")\n",
        "        mask = Image.open(mask_path).convert(\"L\")\n",
        "\n",
        "        if self.is_train:\n",
        "            if random.random() > 0.5:\n",
        "                image = TF.hflip(image)\n",
        "                mask = TF.hflip(mask)\n",
        "            \n",
        "            if random.random() > 0.5:\n",
        "                image = TF.vflip(image)\n",
        "                mask = TF.vflip(mask)\n",
        "            \n",
        "            angle = random.uniform(-10, 10)\n",
        "            image = TF.rotate(image, angle)\n",
        "            mask = TF.rotate(mask, angle)\n",
        "            \n",
        "            brightness = random.uniform(0.8, 1.2)\n",
        "            contrast = random.uniform(0.8, 1.2)\n",
        "            image = TF.adjust_brightness(image, brightness)\n",
        "            image = TF.adjust_contrast(image, contrast)\n",
        "\n",
        "        if self.transform:\n",
        "            image = self.transform(image)\n",
        "        if self.transform:\n",
        "            mask = self.transform(mask)\n",
        "        else:\n",
        "            mask = transforms.ToTensor()(mask)\n",
        "\n",
        "        mask = (mask > 0).float()\n",
        "\n",
        "        return image, mask\n",
        "    \n",
        "\n",
        "IMAGE_SIZE = (224, 224)\n",
        "\n",
        "full_dataset_big = GrossDatasetBig(\n",
        "    image_dir=\"/Users/dmovchinnikov/.cache/kagglehub/datasets/abdallahwagih/kvasir-dataset-for-classification-and-segmentation/versions/1/kvasir-seg/Kvasir-SEG/images\",\n",
        "    label_dir=\"/Users/dmovchinnikov/.cache/kagglehub/datasets/abdallahwagih/kvasir-dataset-for-classification-and-segmentation/versions/1/kvasir-seg/Kvasir-SEG/masks\",\n",
        "    image_size=IMAGE_SIZE,\n",
        "    isTrain=False\n",
        ")\n",
        "\n",
        "from sklearn.model_selection import train_test_split\n",
        "\n",
        "from sklearn.model_selection import train_test_split\n",
        "train_dataset_big, valid_dataset_big = train_test_split(full_dataset, test_size=0.2, random_state=42)\n",
        "\n",
        "train_loader_big = DataLoader(train_dataset_big, batch_size=8, shuffle=True, num_workers=2)\n",
        "val_loader_big = DataLoader(valid_dataset_big, batch_size=8, shuffle=False, num_workers=2)"
      ]
    },
    {
      "cell_type": "code",
      "execution_count": null,
      "metadata": {},
      "outputs": [
        {
          "name": "stdout",
          "output_type": "stream",
          "text": [
            "Эпоха 0\n"
          ]
        },
        {
          "name": "stderr",
          "output_type": "stream",
          "text": [
            "/Users/dmovchinnikov/.pyenv/versions/3.9.1/lib/python3.9/site-packages/torch/amp/autocast_mode.py:266: UserWarning: User provided device_type of 'cuda', but CUDA is not available. Disabling\n",
            "  warnings.warn(\n"
          ]
        },
        {
          "name": "stdout",
          "output_type": "stream",
          "text": [
            "val loss: 0.624\n",
            "val_accuracy: 0.301\n",
            "val_iou: 0.265\n",
            "Эпоха 1\n",
            "val loss: 0.624\n",
            "val_accuracy: 0.301\n",
            "val_iou: 0.265\n",
            "Эпоха 2\n",
            "val loss: 0.624\n",
            "val_accuracy: 0.301\n",
            "val_iou: 0.265\n"
          ]
        }
      ],
      "source": [
        "# Обучение трансформенной\n",
        "model_custom_segmenter = SimpleSegmenter(n_classes=1).to(device)\n",
        "\n",
        "criterion_custom_transformer = nn.CrossEntropyLoss()\n",
        "optimizer_custom_transformer = optim.Adam(model_custom_segmenter.parameters(), lr=LEARNING_RATE)\n",
        "\n",
        "learn_model(model_custom_segmenter,\n",
        "            train_loader_big,\n",
        "            val_loader_big,\n",
        "            criterion_custom_transformer, optimizer_custom_transformer)"
      ]
    },
    {
      "cell_type": "code",
      "execution_count": null,
      "metadata": {},
      "outputs": [
        {
          "name": "stdout",
          "output_type": "stream",
          "text": [
            "Эпоха 0\n"
          ]
        },
        {
          "name": "stderr",
          "output_type": "stream",
          "text": [
            "/Users/dmovchinnikov/.pyenv/versions/3.9.1/lib/python3.9/site-packages/torch/amp/autocast_mode.py:266: UserWarning: User provided device_type of 'cuda', but CUDA is not available. Disabling\n",
            "  warnings.warn(\n"
          ]
        },
        {
          "name": "stdout",
          "output_type": "stream",
          "text": [
            "val loss: 0.720\n",
            "val_accuracy: 0.682\n",
            "val_iou: 0.038\n",
            "Эпоха 1\n",
            "val loss: 0.720\n",
            "val_accuracy: 0.682\n",
            "val_iou: 0.038\n",
            "Эпоха 2\n",
            "val loss: 0.720\n",
            "val_accuracy: 0.682\n",
            "val_iou: 0.038\n"
          ]
        }
      ],
      "source": [
        "# Улучшенная трансформенная\n",
        "model_custom_transformer_extra = SimpleSegmenter(n_classes=1).to(device)\n",
        "\n",
        "criterion_custom_transformer = nn.CrossEntropyLoss()\n",
        "optimizer_custom_transformer = optim.Adam(model_custom_transformer_extra.parameters(), lr=LEARNING_RATE)\n",
        "\n",
        "learn_model(model_custom_transformer_extra,\n",
        "            train_loader_rand,\n",
        "            val_loader_rand,\n",
        "            criterion_custom_transformer, optimizer_custom_transformer)"
      ]
    },
    {
      "cell_type": "markdown",
      "metadata": {},
      "source": [
        "| Модель                                                        | **Acc** | **IoU** |\n",
        "| ------------------------------------------------------------- | :---------: | :---------: |\n",
        "| resnet34                                                          |    0.669    |    0.088    |\n",
        "| mit_b0                                   |  0.467  |  0.209  |\n",
        "| resnet34(эпохи + lr)                                              |    0.315    |     0.240    |\n",
        "| mit_b0 (эпохи + lr)                                  |  0.467  |  0.209  |\n",
        "| resnet34(Функция loss)                                              |     0.457    |     0.312    |\n",
        "| mit_b0 (Функция loss)                                  |  0.464  |  0.324  |\n",
        "| своя сверточная                                              |     0.675    |     0.229    |\n",
        "| своя сверточная (эпохи + lr)                                  |  0.338  |  0.244  |\n",
        "| своя трансформер                                             |     0.301    |     0.265    |\n",
        "| своя трансформер (эпохи + lr)                                  |  0.682  |  0.038  |"
      ]
    },
    {
      "cell_type": "markdown",
      "metadata": {},
      "source": [
        "Как итог Полуились достаточно интересные данные. Лучший результат в 0.324 говорит о том, что достаточно сложно находить в желудке заболевания. Это была интересная работа, но думаю так как фото из желудка, то возможности камеры ограничены, сами заболевания не всегда сильно отличаются от того, что внутри.  \n",
        "\n",
        "Как доп возможность перепроверки интересно, но пока это можно использовать как триггер для врача. Однако стоит ему доверять больше на этом этапе."
      ]
    }
  ],
  "metadata": {
    "accelerator": "GPU",
    "colab": {
      "gpuType": "T4",
      "provenance": []
    },
    "kernelspec": {
      "display_name": "Python 3",
      "name": "python3"
    },
    "language_info": {
      "codemirror_mode": {
        "name": "ipython",
        "version": 3
      },
      "file_extension": ".py",
      "mimetype": "text/x-python",
      "name": "python",
      "nbconvert_exporter": "python",
      "pygments_lexer": "ipython3",
      "version": "3.9.1"
    }
  },
  "nbformat": 4,
  "nbformat_minor": 0
}
